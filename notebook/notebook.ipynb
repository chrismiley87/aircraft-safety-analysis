{
 "cells": [
  {
   "cell_type": "markdown",
   "metadata": {},
   "source": [
    "## Final Project Submission\n",
    "\n",
    "Please fill out:\n",
    "* Student name: Christopher Miley \n",
    "* Student pace: flex\n",
    "* Scheduled project review date/time: \n",
    "* Instructor name: Mark Barbour\n",
    "* Blog post URL:\n"
   ]
  },
  {
   "cell_type": "code",
   "execution_count": 1,
   "metadata": {},
   "outputs": [],
   "source": [
    "#load the necessary libraries \n",
    "import pandas as pd\n",
    "import numpy as np\n",
    "import matplotlib.pyplot as plt\n",
    "%matplotlib inline\n",
    "import seaborn as sns"
   ]
  },
  {
   "cell_type": "code",
   "execution_count": 2,
   "metadata": {
    "scrolled": false
   },
   "outputs": [
    {
     "name": "stderr",
     "output_type": "stream",
     "text": [
      "<ipython-input-2-20fd87075e1e>:2: DtypeWarning: Columns (6,7,28) have mixed types. Specify dtype option on import or set low_memory=False.\n",
      "  aircraft_df = pd.read_csv('data/Aviation_Data.csv')\n"
     ]
    },
    {
     "data": {
      "text/html": [
       "<div>\n",
       "<style scoped>\n",
       "    .dataframe tbody tr th:only-of-type {\n",
       "        vertical-align: middle;\n",
       "    }\n",
       "\n",
       "    .dataframe tbody tr th {\n",
       "        vertical-align: top;\n",
       "    }\n",
       "\n",
       "    .dataframe thead th {\n",
       "        text-align: right;\n",
       "    }\n",
       "</style>\n",
       "<table border=\"1\" class=\"dataframe\">\n",
       "  <thead>\n",
       "    <tr style=\"text-align: right;\">\n",
       "      <th></th>\n",
       "      <th>Event.Id</th>\n",
       "      <th>Investigation.Type</th>\n",
       "      <th>Accident.Number</th>\n",
       "      <th>Event.Date</th>\n",
       "      <th>Location</th>\n",
       "      <th>Country</th>\n",
       "      <th>Latitude</th>\n",
       "      <th>Longitude</th>\n",
       "      <th>Airport.Code</th>\n",
       "      <th>Airport.Name</th>\n",
       "      <th>...</th>\n",
       "      <th>Purpose.of.flight</th>\n",
       "      <th>Air.carrier</th>\n",
       "      <th>Total.Fatal.Injuries</th>\n",
       "      <th>Total.Serious.Injuries</th>\n",
       "      <th>Total.Minor.Injuries</th>\n",
       "      <th>Total.Uninjured</th>\n",
       "      <th>Weather.Condition</th>\n",
       "      <th>Broad.phase.of.flight</th>\n",
       "      <th>Report.Status</th>\n",
       "      <th>Publication.Date</th>\n",
       "    </tr>\n",
       "  </thead>\n",
       "  <tbody>\n",
       "    <tr>\n",
       "      <th>0</th>\n",
       "      <td>20001218X45444</td>\n",
       "      <td>Accident</td>\n",
       "      <td>SEA87LA080</td>\n",
       "      <td>1948-10-24</td>\n",
       "      <td>MOOSE CREEK, ID</td>\n",
       "      <td>United States</td>\n",
       "      <td>NaN</td>\n",
       "      <td>NaN</td>\n",
       "      <td>NaN</td>\n",
       "      <td>NaN</td>\n",
       "      <td>...</td>\n",
       "      <td>Personal</td>\n",
       "      <td>NaN</td>\n",
       "      <td>2.0</td>\n",
       "      <td>0.0</td>\n",
       "      <td>0.0</td>\n",
       "      <td>0.0</td>\n",
       "      <td>UNK</td>\n",
       "      <td>Cruise</td>\n",
       "      <td>Probable Cause</td>\n",
       "      <td>NaN</td>\n",
       "    </tr>\n",
       "    <tr>\n",
       "      <th>1</th>\n",
       "      <td>20001218X45447</td>\n",
       "      <td>Accident</td>\n",
       "      <td>LAX94LA336</td>\n",
       "      <td>1962-07-19</td>\n",
       "      <td>BRIDGEPORT, CA</td>\n",
       "      <td>United States</td>\n",
       "      <td>NaN</td>\n",
       "      <td>NaN</td>\n",
       "      <td>NaN</td>\n",
       "      <td>NaN</td>\n",
       "      <td>...</td>\n",
       "      <td>Personal</td>\n",
       "      <td>NaN</td>\n",
       "      <td>4.0</td>\n",
       "      <td>0.0</td>\n",
       "      <td>0.0</td>\n",
       "      <td>0.0</td>\n",
       "      <td>UNK</td>\n",
       "      <td>Unknown</td>\n",
       "      <td>Probable Cause</td>\n",
       "      <td>19-09-1996</td>\n",
       "    </tr>\n",
       "    <tr>\n",
       "      <th>2</th>\n",
       "      <td>20061025X01555</td>\n",
       "      <td>Accident</td>\n",
       "      <td>NYC07LA005</td>\n",
       "      <td>1974-08-30</td>\n",
       "      <td>Saltville, VA</td>\n",
       "      <td>United States</td>\n",
       "      <td>36.922223</td>\n",
       "      <td>-81.878056</td>\n",
       "      <td>NaN</td>\n",
       "      <td>NaN</td>\n",
       "      <td>...</td>\n",
       "      <td>Personal</td>\n",
       "      <td>NaN</td>\n",
       "      <td>3.0</td>\n",
       "      <td>NaN</td>\n",
       "      <td>NaN</td>\n",
       "      <td>NaN</td>\n",
       "      <td>IMC</td>\n",
       "      <td>Cruise</td>\n",
       "      <td>Probable Cause</td>\n",
       "      <td>26-02-2007</td>\n",
       "    </tr>\n",
       "    <tr>\n",
       "      <th>3</th>\n",
       "      <td>20001218X45448</td>\n",
       "      <td>Accident</td>\n",
       "      <td>LAX96LA321</td>\n",
       "      <td>1977-06-19</td>\n",
       "      <td>EUREKA, CA</td>\n",
       "      <td>United States</td>\n",
       "      <td>NaN</td>\n",
       "      <td>NaN</td>\n",
       "      <td>NaN</td>\n",
       "      <td>NaN</td>\n",
       "      <td>...</td>\n",
       "      <td>Personal</td>\n",
       "      <td>NaN</td>\n",
       "      <td>2.0</td>\n",
       "      <td>0.0</td>\n",
       "      <td>0.0</td>\n",
       "      <td>0.0</td>\n",
       "      <td>IMC</td>\n",
       "      <td>Cruise</td>\n",
       "      <td>Probable Cause</td>\n",
       "      <td>12-09-2000</td>\n",
       "    </tr>\n",
       "    <tr>\n",
       "      <th>4</th>\n",
       "      <td>20041105X01764</td>\n",
       "      <td>Accident</td>\n",
       "      <td>CHI79FA064</td>\n",
       "      <td>1979-08-02</td>\n",
       "      <td>Canton, OH</td>\n",
       "      <td>United States</td>\n",
       "      <td>NaN</td>\n",
       "      <td>NaN</td>\n",
       "      <td>NaN</td>\n",
       "      <td>NaN</td>\n",
       "      <td>...</td>\n",
       "      <td>Personal</td>\n",
       "      <td>NaN</td>\n",
       "      <td>1.0</td>\n",
       "      <td>2.0</td>\n",
       "      <td>NaN</td>\n",
       "      <td>0.0</td>\n",
       "      <td>VMC</td>\n",
       "      <td>Approach</td>\n",
       "      <td>Probable Cause</td>\n",
       "      <td>16-04-1980</td>\n",
       "    </tr>\n",
       "  </tbody>\n",
       "</table>\n",
       "<p>5 rows × 31 columns</p>\n",
       "</div>"
      ],
      "text/plain": [
       "         Event.Id Investigation.Type Accident.Number  Event.Date  \\\n",
       "0  20001218X45444           Accident      SEA87LA080  1948-10-24   \n",
       "1  20001218X45447           Accident      LAX94LA336  1962-07-19   \n",
       "2  20061025X01555           Accident      NYC07LA005  1974-08-30   \n",
       "3  20001218X45448           Accident      LAX96LA321  1977-06-19   \n",
       "4  20041105X01764           Accident      CHI79FA064  1979-08-02   \n",
       "\n",
       "          Location        Country   Latitude  Longitude Airport.Code  \\\n",
       "0  MOOSE CREEK, ID  United States        NaN        NaN          NaN   \n",
       "1   BRIDGEPORT, CA  United States        NaN        NaN          NaN   \n",
       "2    Saltville, VA  United States  36.922223 -81.878056          NaN   \n",
       "3       EUREKA, CA  United States        NaN        NaN          NaN   \n",
       "4       Canton, OH  United States        NaN        NaN          NaN   \n",
       "\n",
       "  Airport.Name  ... Purpose.of.flight Air.carrier Total.Fatal.Injuries  \\\n",
       "0          NaN  ...          Personal         NaN                  2.0   \n",
       "1          NaN  ...          Personal         NaN                  4.0   \n",
       "2          NaN  ...          Personal         NaN                  3.0   \n",
       "3          NaN  ...          Personal         NaN                  2.0   \n",
       "4          NaN  ...          Personal         NaN                  1.0   \n",
       "\n",
       "  Total.Serious.Injuries Total.Minor.Injuries Total.Uninjured  \\\n",
       "0                    0.0                  0.0             0.0   \n",
       "1                    0.0                  0.0             0.0   \n",
       "2                    NaN                  NaN             NaN   \n",
       "3                    0.0                  0.0             0.0   \n",
       "4                    2.0                  NaN             0.0   \n",
       "\n",
       "  Weather.Condition  Broad.phase.of.flight   Report.Status Publication.Date  \n",
       "0               UNK                 Cruise  Probable Cause              NaN  \n",
       "1               UNK                Unknown  Probable Cause       19-09-1996  \n",
       "2               IMC                 Cruise  Probable Cause       26-02-2007  \n",
       "3               IMC                 Cruise  Probable Cause       12-09-2000  \n",
       "4               VMC               Approach  Probable Cause       16-04-1980  \n",
       "\n",
       "[5 rows x 31 columns]"
      ]
     },
     "execution_count": 2,
     "metadata": {},
     "output_type": "execute_result"
    }
   ],
   "source": [
    "#load the data to work with\n",
    "aircraft_df = pd.read_csv('data/Aviation_Data.csv')\n",
    "aircraft_df.head()"
   ]
  },
  {
   "cell_type": "code",
   "execution_count": 3,
   "metadata": {},
   "outputs": [
    {
     "data": {
      "text/plain": [
       "(90348, 31)"
      ]
     },
     "execution_count": 3,
     "metadata": {},
     "output_type": "execute_result"
    }
   ],
   "source": [
    "#inspect the size of the dataframe\n",
    "aircraft_df.shape"
   ]
  },
  {
   "cell_type": "code",
   "execution_count": 4,
   "metadata": {},
   "outputs": [
    {
     "data": {
      "text/plain": [
       "Index(['Event.Id', 'Investigation.Type', 'Accident.Number', 'Event.Date',\n",
       "       'Location', 'Country', 'Latitude', 'Longitude', 'Airport.Code',\n",
       "       'Airport.Name', 'Injury.Severity', 'Aircraft.damage',\n",
       "       'Aircraft.Category', 'Registration.Number', 'Make', 'Model',\n",
       "       'Amateur.Built', 'Number.of.Engines', 'Engine.Type', 'FAR.Description',\n",
       "       'Schedule', 'Purpose.of.flight', 'Air.carrier', 'Total.Fatal.Injuries',\n",
       "       'Total.Serious.Injuries', 'Total.Minor.Injuries', 'Total.Uninjured',\n",
       "       'Weather.Condition', 'Broad.phase.of.flight', 'Report.Status',\n",
       "       'Publication.Date'],\n",
       "      dtype='object')"
      ]
     },
     "execution_count": 4,
     "metadata": {},
     "output_type": "execute_result"
    }
   ],
   "source": [
    "#find the names of all of the columns\n",
    "aircraft_df.columns"
   ]
  },
  {
   "cell_type": "code",
   "execution_count": 5,
   "metadata": {},
   "outputs": [
    {
     "name": "stdout",
     "output_type": "stream",
     "text": [
      "             Event_Id Investigation_Type Accident_Number  Event_Date  \\\n",
      "0      20001218X45444           Accident      SEA87LA080  1948-10-24   \n",
      "1      20001218X45447           Accident      LAX94LA336  1962-07-19   \n",
      "2      20061025X01555           Accident      NYC07LA005  1974-08-30   \n",
      "3      20001218X45448           Accident      LAX96LA321  1977-06-19   \n",
      "4      20041105X01764           Accident      CHI79FA064  1979-08-02   \n",
      "...               ...                ...             ...         ...   \n",
      "90343  20221227106491           Accident      ERA23LA093  2022-12-26   \n",
      "90344  20221227106494           Accident      ERA23LA095  2022-12-26   \n",
      "90345  20221227106497           Accident      WPR23LA075  2022-12-26   \n",
      "90346  20221227106498           Accident      WPR23LA076  2022-12-26   \n",
      "90347  20221230106513           Accident      ERA23LA097  2022-12-29   \n",
      "\n",
      "              Location        Country   Latitude  Longitude Airport_Code  \\\n",
      "0      MOOSE CREEK, ID  United States        NaN        NaN          NaN   \n",
      "1       BRIDGEPORT, CA  United States        NaN        NaN          NaN   \n",
      "2        Saltville, VA  United States  36.922223 -81.878056          NaN   \n",
      "3           EUREKA, CA  United States        NaN        NaN          NaN   \n",
      "4           Canton, OH  United States        NaN        NaN          NaN   \n",
      "...                ...            ...        ...        ...          ...   \n",
      "90343    Annapolis, MD  United States        NaN        NaN          NaN   \n",
      "90344      Hampton, NH  United States        NaN        NaN          NaN   \n",
      "90345       Payson, AZ  United States    341525N   1112021W          PAN   \n",
      "90346       Morgan, UT  United States        NaN        NaN          NaN   \n",
      "90347       Athens, GA  United States        NaN        NaN          NaN   \n",
      "\n",
      "      Airport_Name  ... Purpose_of_flight         Air_carrier  \\\n",
      "0              NaN  ...          Personal                 NaN   \n",
      "1              NaN  ...          Personal                 NaN   \n",
      "2              NaN  ...          Personal                 NaN   \n",
      "3              NaN  ...          Personal                 NaN   \n",
      "4              NaN  ...          Personal                 NaN   \n",
      "...            ...  ...               ...                 ...   \n",
      "90343          NaN  ...          Personal                 NaN   \n",
      "90344          NaN  ...               NaN                 NaN   \n",
      "90345       PAYSON  ...          Personal                 NaN   \n",
      "90346          NaN  ...          Personal  MC CESSNA 210N LLC   \n",
      "90347          NaN  ...          Personal                 NaN   \n",
      "\n",
      "      Total_Fatal_Injuries Total_Serious_Injuries Total_Minor_Injuries  \\\n",
      "0                      2.0                    0.0                  0.0   \n",
      "1                      4.0                    0.0                  0.0   \n",
      "2                      3.0                    NaN                  NaN   \n",
      "3                      2.0                    0.0                  0.0   \n",
      "4                      1.0                    2.0                  NaN   \n",
      "...                    ...                    ...                  ...   \n",
      "90343                  0.0                    1.0                  0.0   \n",
      "90344                  0.0                    0.0                  0.0   \n",
      "90345                  0.0                    0.0                  0.0   \n",
      "90346                  0.0                    0.0                  0.0   \n",
      "90347                  0.0                    1.0                  0.0   \n",
      "\n",
      "      Total_Uninjured Weather_Condition  Broad_phase_of_flight  \\\n",
      "0                 0.0               UNK                 Cruise   \n",
      "1                 0.0               UNK                Unknown   \n",
      "2                 NaN               IMC                 Cruise   \n",
      "3                 0.0               IMC                 Cruise   \n",
      "4                 0.0               VMC               Approach   \n",
      "...               ...               ...                    ...   \n",
      "90343             0.0               NaN                    NaN   \n",
      "90344             0.0               NaN                    NaN   \n",
      "90345             1.0               VMC                    NaN   \n",
      "90346             0.0               NaN                    NaN   \n",
      "90347             1.0               NaN                    NaN   \n",
      "\n",
      "        Report_Status Publication_Date  \n",
      "0      Probable Cause              NaN  \n",
      "1      Probable Cause       19-09-1996  \n",
      "2      Probable Cause       26-02-2007  \n",
      "3      Probable Cause       12-09-2000  \n",
      "4      Probable Cause       16-04-1980  \n",
      "...               ...              ...  \n",
      "90343             NaN       29-12-2022  \n",
      "90344             NaN              NaN  \n",
      "90345             NaN       27-12-2022  \n",
      "90346             NaN              NaN  \n",
      "90347             NaN       30-12-2022  \n",
      "\n",
      "[90348 rows x 31 columns]\n"
     ]
    }
   ],
   "source": [
    "#replace '.' with '_' across the column titles of the dataframe\n",
    "aircraft_df.columns = aircraft_df.columns.str.replace('.', '_')\n",
    "print(aircraft_df)"
   ]
  },
  {
   "cell_type": "code",
   "execution_count": 6,
   "metadata": {},
   "outputs": [
    {
     "name": "stdout",
     "output_type": "stream",
     "text": [
      "[<class 'float'>, <class 'str'>]\n"
     ]
    }
   ],
   "source": [
    "#determine the different types of Latitude data values\n",
    "latitude_unique_values = aircraft_df.Latitude.unique()\n",
    "latitude_types = [type(val) for val in latitude_unique_values]\n",
    "unique_latitude_types = []\n",
    "for val in latitude_types:\n",
    "    if val not in unique_latitude_types:\n",
    "        unique_latitude_types.append(val)\n",
    "print(unique_latitude_types)\n"
   ]
  },
  {
   "cell_type": "code",
   "execution_count": 7,
   "metadata": {},
   "outputs": [],
   "source": [
    "#convert all values in the Latitude column to strings \n",
    "aircraft_df.Latitude = aircraft_df.Latitude.astype(str)\n",
    "#convert all values in the Longitude column to strings\n",
    "aircraft_df.Longitude = aircraft_df.Longitude.astype(str)"
   ]
  },
  {
   "cell_type": "code",
   "execution_count": 8,
   "metadata": {},
   "outputs": [
    {
     "data": {
      "text/plain": [
       "'Broad_phase_of_flight'"
      ]
     },
     "execution_count": 8,
     "metadata": {},
     "output_type": "execute_result"
    }
   ],
   "source": [
    "#check the name of column 28\n",
    "aircraft_df.columns[28]"
   ]
  },
  {
   "cell_type": "code",
   "execution_count": 9,
   "metadata": {},
   "outputs": [
    {
     "data": {
      "text/plain": [
       "Broad_phase_of_flight\n",
       "NaN            28624\n",
       "Landing        15428\n",
       "Takeoff        12493\n",
       "Cruise         10269\n",
       "Maneuvering     8144\n",
       "Approach        6546\n",
       "Climb           2034\n",
       "Taxi            1958\n",
       "Descent         1887\n",
       "Go-around       1353\n",
       "Standing         945\n",
       "Unknown          548\n",
       "Other            119\n",
       "Name: count, dtype: int64"
      ]
     },
     "execution_count": 9,
     "metadata": {},
     "output_type": "execute_result"
    }
   ],
   "source": [
    "#look at the unique values and their occurrences for Broad_phase_of_flight\n",
    "aircraft_df.Broad_phase_of_flight.value_counts(dropna=False)"
   ]
  },
  {
   "cell_type": "code",
   "execution_count": 10,
   "metadata": {},
   "outputs": [
    {
     "data": {
      "text/html": [
       "<div>\n",
       "<style scoped>\n",
       "    .dataframe tbody tr th:only-of-type {\n",
       "        vertical-align: middle;\n",
       "    }\n",
       "\n",
       "    .dataframe tbody tr th {\n",
       "        vertical-align: top;\n",
       "    }\n",
       "\n",
       "    .dataframe thead th {\n",
       "        text-align: right;\n",
       "    }\n",
       "</style>\n",
       "<table border=\"1\" class=\"dataframe\">\n",
       "  <thead>\n",
       "    <tr style=\"text-align: right;\">\n",
       "      <th></th>\n",
       "      <th>Event_Id</th>\n",
       "      <th>Investigation_Type</th>\n",
       "      <th>Accident_Number</th>\n",
       "      <th>Event_Date</th>\n",
       "      <th>Location</th>\n",
       "      <th>Country</th>\n",
       "      <th>Latitude</th>\n",
       "      <th>Longitude</th>\n",
       "      <th>Airport_Code</th>\n",
       "      <th>Airport_Name</th>\n",
       "      <th>...</th>\n",
       "      <th>Purpose_of_flight</th>\n",
       "      <th>Air_carrier</th>\n",
       "      <th>Total_Fatal_Injuries</th>\n",
       "      <th>Total_Serious_Injuries</th>\n",
       "      <th>Total_Minor_Injuries</th>\n",
       "      <th>Total_Uninjured</th>\n",
       "      <th>Weather_Condition</th>\n",
       "      <th>Broad_phase_of_flight</th>\n",
       "      <th>Report_Status</th>\n",
       "      <th>Publication_Date</th>\n",
       "    </tr>\n",
       "  </thead>\n",
       "  <tbody>\n",
       "    <tr>\n",
       "      <th>3030</th>\n",
       "      <td>20020917X04924</td>\n",
       "      <td>Accident</td>\n",
       "      <td>MIA83LA011</td>\n",
       "      <td>1982-10-11</td>\n",
       "      <td>SARASOTA, FL</td>\n",
       "      <td>United States</td>\n",
       "      <td>nan</td>\n",
       "      <td>nan</td>\n",
       "      <td>SRQ</td>\n",
       "      <td>SARASOTA-BRADENTON</td>\n",
       "      <td>...</td>\n",
       "      <td>Personal</td>\n",
       "      <td>NaN</td>\n",
       "      <td>0.0</td>\n",
       "      <td>0.0</td>\n",
       "      <td>0.0</td>\n",
       "      <td>2.0</td>\n",
       "      <td>VMC</td>\n",
       "      <td>NaN</td>\n",
       "      <td>Probable Cause</td>\n",
       "      <td>11-10-1983</td>\n",
       "    </tr>\n",
       "    <tr>\n",
       "      <th>3550</th>\n",
       "      <td>20020917X04800</td>\n",
       "      <td>Accident</td>\n",
       "      <td>LAX83FA061</td>\n",
       "      <td>1982-12-25</td>\n",
       "      <td>SANTA YSABEL, CA</td>\n",
       "      <td>United States</td>\n",
       "      <td>nan</td>\n",
       "      <td>nan</td>\n",
       "      <td>NaN</td>\n",
       "      <td>MESA GRANDE</td>\n",
       "      <td>...</td>\n",
       "      <td>Unknown</td>\n",
       "      <td>NaN</td>\n",
       "      <td>4.0</td>\n",
       "      <td>0.0</td>\n",
       "      <td>0.0</td>\n",
       "      <td>0.0</td>\n",
       "      <td>VMC</td>\n",
       "      <td>NaN</td>\n",
       "      <td>Probable Cause</td>\n",
       "      <td>25-12-1983</td>\n",
       "    </tr>\n",
       "  </tbody>\n",
       "</table>\n",
       "<p>2 rows × 31 columns</p>\n",
       "</div>"
      ],
      "text/plain": [
       "            Event_Id Investigation_Type Accident_Number  Event_Date  \\\n",
       "3030  20020917X04924           Accident      MIA83LA011  1982-10-11   \n",
       "3550  20020917X04800           Accident      LAX83FA061  1982-12-25   \n",
       "\n",
       "              Location        Country Latitude Longitude Airport_Code  \\\n",
       "3030      SARASOTA, FL  United States      nan       nan          SRQ   \n",
       "3550  SANTA YSABEL, CA  United States      nan       nan          NaN   \n",
       "\n",
       "            Airport_Name  ... Purpose_of_flight Air_carrier  \\\n",
       "3030  SARASOTA-BRADENTON  ...          Personal         NaN   \n",
       "3550         MESA GRANDE  ...           Unknown         NaN   \n",
       "\n",
       "     Total_Fatal_Injuries Total_Serious_Injuries Total_Minor_Injuries  \\\n",
       "3030                  0.0                    0.0                  0.0   \n",
       "3550                  4.0                    0.0                  0.0   \n",
       "\n",
       "     Total_Uninjured Weather_Condition  Broad_phase_of_flight   Report_Status  \\\n",
       "3030             2.0               VMC                    NaN  Probable Cause   \n",
       "3550             0.0               VMC                    NaN  Probable Cause   \n",
       "\n",
       "     Publication_Date  \n",
       "3030       11-10-1983  \n",
       "3550       25-12-1983  \n",
       "\n",
       "[2 rows x 31 columns]"
      ]
     },
     "execution_count": 10,
     "metadata": {},
     "output_type": "execute_result"
    }
   ],
   "source": [
    "#look at example rows where Broad_phase_of_flight is NaN\n",
    "phase_nan_rows = aircraft_df[aircraft_df.Broad_phase_of_flight.isna()]\n",
    "phase_nan_rows.iloc[0:2]"
   ]
  },
  {
   "cell_type": "code",
   "execution_count": 11,
   "metadata": {},
   "outputs": [
    {
     "data": {
      "text/plain": [
       "Broad_phase_of_flight\n",
       "Unknown        29172\n",
       "Landing        15428\n",
       "Takeoff        12493\n",
       "Cruise         10269\n",
       "Maneuvering     8144\n",
       "Approach        6546\n",
       "Climb           2034\n",
       "Taxi            1958\n",
       "Descent         1887\n",
       "Go-around       1353\n",
       "Standing         945\n",
       "Other            119\n",
       "Name: count, dtype: int64"
      ]
     },
     "execution_count": 11,
     "metadata": {},
     "output_type": "execute_result"
    }
   ],
   "source": [
    "#replace NaN in Broad_phase_of_flight with Unknown\n",
    "aircraft_df.Broad_phase_of_flight = aircraft_df.Broad_phase_of_flight.fillna(\"Unknown\")\n",
    "aircraft_df.Broad_phase_of_flight.value_counts(dropna=False)"
   ]
  },
  {
   "cell_type": "code",
   "execution_count": 12,
   "metadata": {},
   "outputs": [
    {
     "name": "stdout",
     "output_type": "stream",
     "text": [
      "['Accident' 'Incident' '25-09-2020' '14-06-2021' '03-11-2020' '24-02-2021'\n",
      " '02-02-2021' '05-05-2021' '03-12-2020' '07-12-2020' '06-05-2021'\n",
      " '19-11-2020' '04-08-2021' '13-09-2021' '10-06-2021' '14-12-2021'\n",
      " '08-06-2021' '24-06-2021' '24-08-2021' '31-03-2021' '27-05-2021'\n",
      " '20-05-2021' '18-11-2020' '25-05-2021' '01-06-2021' '15-07-2021'\n",
      " '15-10-2021' '26-09-2020' '03-06-2021' '29-09-2021' '28-01-2021'\n",
      " '20-10-2021' '11-12-2020' '11-02-2021' '13-12-2021' '06-01-2021'\n",
      " '31-08-2021' '04-03-2021' '05-04-2021' '26-01-2021' '29-01-2021'\n",
      " '26-08-2021' '08-11-2021' '20-08-2021' '05-01-2021' '22-09-2021'\n",
      " '20-09-2021' '16-07-2021' '19-10-2021' '16-11-2021' '17-12-2021'\n",
      " '14-06-2022' '22-06-2022' '13-10-2022' '03-11-2022' '13-07-2022'\n",
      " '05-07-2022' '01-09-2022' '12-08-2022' '08-09-2022' '22-09-2022'\n",
      " '01-11-2022' '01-07-2022' '20-07-2022' '06-10-2022' '23-09-2022'\n",
      " '02-12-2022' '05-08-2022' '08-12-2022' '15-12-2022' '20-12-2022']\n"
     ]
    }
   ],
   "source": [
    "#look at the different values of the Investigation_Type column\n",
    "print(aircraft_df.Investigation_Type.unique())"
   ]
  },
  {
   "cell_type": "code",
   "execution_count": 13,
   "metadata": {},
   "outputs": [
    {
     "name": "stdout",
     "output_type": "stream",
     "text": [
      "Investigation_Type\n",
      "Accident      85015\n",
      "Incident       3874\n",
      "25-09-2020      702\n",
      "26-09-2020       60\n",
      "02-02-2021       39\n",
      "              ...  \n",
      "13-09-2021        1\n",
      "04-08-2021        1\n",
      "05-08-2022        1\n",
      "03-11-2020        1\n",
      "06-01-2021        1\n",
      "Name: count, Length: 71, dtype: int64\n"
     ]
    }
   ],
   "source": [
    "#look at the number of occurrences of each Investigation_Type value\n",
    "print(aircraft_df.Investigation_Type.value_counts())"
   ]
  },
  {
   "cell_type": "code",
   "execution_count": 14,
   "metadata": {},
   "outputs": [
    {
     "name": "stdout",
     "output_type": "stream",
     "text": [
      "      Event_Id Investigation_Type Accident_Number Event_Date Location Country  \\\n",
      "64030      NaN         25-09-2020             NaN        NaN      NaN     NaN   \n",
      "64050      NaN         25-09-2020             NaN        NaN      NaN     NaN   \n",
      "64052      NaN         25-09-2020             NaN        NaN      NaN     NaN   \n",
      "64388      NaN         25-09-2020             NaN        NaN      NaN     NaN   \n",
      "64541      NaN         25-09-2020             NaN        NaN      NaN     NaN   \n",
      "...        ...                ...             ...        ...      ...     ...   \n",
      "90004      NaN         15-12-2022             NaN        NaN      NaN     NaN   \n",
      "90010      NaN         15-12-2022             NaN        NaN      NaN     NaN   \n",
      "90031      NaN         15-12-2022             NaN        NaN      NaN     NaN   \n",
      "90090      NaN         20-12-2022             NaN        NaN      NaN     NaN   \n",
      "90097      NaN         20-12-2022             NaN        NaN      NaN     NaN   \n",
      "\n",
      "      Latitude Longitude Airport_Code Airport_Name  ... Purpose_of_flight  \\\n",
      "64030      nan       nan          NaN          NaN  ...               NaN   \n",
      "64050      nan       nan          NaN          NaN  ...               NaN   \n",
      "64052      nan       nan          NaN          NaN  ...               NaN   \n",
      "64388      nan       nan          NaN          NaN  ...               NaN   \n",
      "64541      nan       nan          NaN          NaN  ...               NaN   \n",
      "...        ...       ...          ...          ...  ...               ...   \n",
      "90004      nan       nan          NaN          NaN  ...               NaN   \n",
      "90010      nan       nan          NaN          NaN  ...               NaN   \n",
      "90031      nan       nan          NaN          NaN  ...               NaN   \n",
      "90090      nan       nan          NaN          NaN  ...               NaN   \n",
      "90097      nan       nan          NaN          NaN  ...               NaN   \n",
      "\n",
      "      Air_carrier Total_Fatal_Injuries Total_Serious_Injuries  \\\n",
      "64030         NaN                  NaN                    NaN   \n",
      "64050         NaN                  NaN                    NaN   \n",
      "64052         NaN                  NaN                    NaN   \n",
      "64388         NaN                  NaN                    NaN   \n",
      "64541         NaN                  NaN                    NaN   \n",
      "...           ...                  ...                    ...   \n",
      "90004         NaN                  NaN                    NaN   \n",
      "90010         NaN                  NaN                    NaN   \n",
      "90031         NaN                  NaN                    NaN   \n",
      "90090         NaN                  NaN                    NaN   \n",
      "90097         NaN                  NaN                    NaN   \n",
      "\n",
      "      Total_Minor_Injuries Total_Uninjured Weather_Condition  \\\n",
      "64030                  NaN             NaN               NaN   \n",
      "64050                  NaN             NaN               NaN   \n",
      "64052                  NaN             NaN               NaN   \n",
      "64388                  NaN             NaN               NaN   \n",
      "64541                  NaN             NaN               NaN   \n",
      "...                    ...             ...               ...   \n",
      "90004                  NaN             NaN               NaN   \n",
      "90010                  NaN             NaN               NaN   \n",
      "90031                  NaN             NaN               NaN   \n",
      "90090                  NaN             NaN               NaN   \n",
      "90097                  NaN             NaN               NaN   \n",
      "\n",
      "       Broad_phase_of_flight Report_Status Publication_Date  \n",
      "64030                Unknown           NaN              NaN  \n",
      "64050                Unknown           NaN              NaN  \n",
      "64052                Unknown           NaN              NaN  \n",
      "64388                Unknown           NaN              NaN  \n",
      "64541                Unknown           NaN              NaN  \n",
      "...                      ...           ...              ...  \n",
      "90004                Unknown           NaN              NaN  \n",
      "90010                Unknown           NaN              NaN  \n",
      "90031                Unknown           NaN              NaN  \n",
      "90090                Unknown           NaN              NaN  \n",
      "90097                Unknown           NaN              NaN  \n",
      "\n",
      "[1459 rows x 31 columns]\n"
     ]
    }
   ],
   "source": [
    "#take a closer look at the entries exluding accident and incident as an investigation type\n",
    "investigation_excluded_values = ['Accident', 'Incident']\n",
    "investigation_filtered_data = aircraft_df[~aircraft_df.Investigation_Type.isin(investigation_excluded_values)]\n",
    "print(investigation_filtered_data)\n"
   ]
  },
  {
   "cell_type": "code",
   "execution_count": 15,
   "metadata": {},
   "outputs": [
    {
     "name": "stdout",
     "output_type": "stream",
     "text": [
      "      Event_Id Investigation_Type Accident_Number Event_Date Location Country  \\\n",
      "74420      NaN         03-11-2020             NaN        NaN      NaN     NaN   \n",
      "79013      NaN         04-08-2021             NaN        NaN      NaN     NaN   \n",
      "79821      NaN         13-09-2021             NaN        NaN      NaN     NaN   \n",
      "84151      NaN         06-01-2021             NaN        NaN      NaN     NaN   \n",
      "89492      NaN         05-08-2022             NaN        NaN      NaN     NaN   \n",
      "\n",
      "      Latitude Longitude Airport_Code Airport_Name  ... Purpose_of_flight  \\\n",
      "74420      nan       nan          NaN          NaN  ...               NaN   \n",
      "79013      nan       nan          NaN          NaN  ...               NaN   \n",
      "79821      nan       nan          NaN          NaN  ...               NaN   \n",
      "84151      nan       nan          NaN          NaN  ...               NaN   \n",
      "89492      nan       nan          NaN          NaN  ...               NaN   \n",
      "\n",
      "      Air_carrier Total_Fatal_Injuries Total_Serious_Injuries  \\\n",
      "74420         NaN                  NaN                    NaN   \n",
      "79013         NaN                  NaN                    NaN   \n",
      "79821         NaN                  NaN                    NaN   \n",
      "84151         NaN                  NaN                    NaN   \n",
      "89492         NaN                  NaN                    NaN   \n",
      "\n",
      "      Total_Minor_Injuries Total_Uninjured Weather_Condition  \\\n",
      "74420                  NaN             NaN               NaN   \n",
      "79013                  NaN             NaN               NaN   \n",
      "79821                  NaN             NaN               NaN   \n",
      "84151                  NaN             NaN               NaN   \n",
      "89492                  NaN             NaN               NaN   \n",
      "\n",
      "       Broad_phase_of_flight Report_Status Publication_Date  \n",
      "74420                Unknown           NaN              NaN  \n",
      "79013                Unknown           NaN              NaN  \n",
      "79821                Unknown           NaN              NaN  \n",
      "84151                Unknown           NaN              NaN  \n",
      "89492                Unknown           NaN              NaN  \n",
      "\n",
      "[5 rows x 31 columns]\n"
     ]
    }
   ],
   "source": [
    "#look at a few more examples from above\n",
    "print(aircraft_df[aircraft_df.Investigation_Type.isin(['13-09-2021', '04-08-2021', '05-08-2022', '03-11-2020', '06-01-2021'])])"
   ]
  },
  {
   "cell_type": "code",
   "execution_count": 16,
   "metadata": {},
   "outputs": [
    {
     "data": {
      "text/html": [
       "<div>\n",
       "<style scoped>\n",
       "    .dataframe tbody tr th:only-of-type {\n",
       "        vertical-align: middle;\n",
       "    }\n",
       "\n",
       "    .dataframe tbody tr th {\n",
       "        vertical-align: top;\n",
       "    }\n",
       "\n",
       "    .dataframe thead th {\n",
       "        text-align: right;\n",
       "    }\n",
       "</style>\n",
       "<table border=\"1\" class=\"dataframe\">\n",
       "  <thead>\n",
       "    <tr style=\"text-align: right;\">\n",
       "      <th></th>\n",
       "      <th>Event_Id</th>\n",
       "      <th>Investigation_Type</th>\n",
       "      <th>Accident_Number</th>\n",
       "      <th>Event_Date</th>\n",
       "      <th>Location</th>\n",
       "      <th>Country</th>\n",
       "      <th>Latitude</th>\n",
       "      <th>Longitude</th>\n",
       "      <th>Airport_Code</th>\n",
       "      <th>Airport_Name</th>\n",
       "      <th>...</th>\n",
       "      <th>Purpose_of_flight</th>\n",
       "      <th>Air_carrier</th>\n",
       "      <th>Total_Fatal_Injuries</th>\n",
       "      <th>Total_Serious_Injuries</th>\n",
       "      <th>Total_Minor_Injuries</th>\n",
       "      <th>Total_Uninjured</th>\n",
       "      <th>Weather_Condition</th>\n",
       "      <th>Broad_phase_of_flight</th>\n",
       "      <th>Report_Status</th>\n",
       "      <th>Publication_Date</th>\n",
       "    </tr>\n",
       "  </thead>\n",
       "  <tbody>\n",
       "    <tr>\n",
       "      <th>0</th>\n",
       "      <td>20001218X45444</td>\n",
       "      <td>Accident</td>\n",
       "      <td>SEA87LA080</td>\n",
       "      <td>1948-10-24</td>\n",
       "      <td>MOOSE CREEK, ID</td>\n",
       "      <td>United States</td>\n",
       "      <td>nan</td>\n",
       "      <td>nan</td>\n",
       "      <td>NaN</td>\n",
       "      <td>NaN</td>\n",
       "      <td>...</td>\n",
       "      <td>Personal</td>\n",
       "      <td>NaN</td>\n",
       "      <td>2.0</td>\n",
       "      <td>0.0</td>\n",
       "      <td>0.0</td>\n",
       "      <td>0.0</td>\n",
       "      <td>UNK</td>\n",
       "      <td>Cruise</td>\n",
       "      <td>Probable Cause</td>\n",
       "      <td>NaN</td>\n",
       "    </tr>\n",
       "    <tr>\n",
       "      <th>1</th>\n",
       "      <td>20001218X45447</td>\n",
       "      <td>Accident</td>\n",
       "      <td>LAX94LA336</td>\n",
       "      <td>1962-07-19</td>\n",
       "      <td>BRIDGEPORT, CA</td>\n",
       "      <td>United States</td>\n",
       "      <td>nan</td>\n",
       "      <td>nan</td>\n",
       "      <td>NaN</td>\n",
       "      <td>NaN</td>\n",
       "      <td>...</td>\n",
       "      <td>Personal</td>\n",
       "      <td>NaN</td>\n",
       "      <td>4.0</td>\n",
       "      <td>0.0</td>\n",
       "      <td>0.0</td>\n",
       "      <td>0.0</td>\n",
       "      <td>UNK</td>\n",
       "      <td>Unknown</td>\n",
       "      <td>Probable Cause</td>\n",
       "      <td>19-09-1996</td>\n",
       "    </tr>\n",
       "    <tr>\n",
       "      <th>2</th>\n",
       "      <td>20061025X01555</td>\n",
       "      <td>Accident</td>\n",
       "      <td>NYC07LA005</td>\n",
       "      <td>1974-08-30</td>\n",
       "      <td>Saltville, VA</td>\n",
       "      <td>United States</td>\n",
       "      <td>36.922223</td>\n",
       "      <td>-81.878056</td>\n",
       "      <td>NaN</td>\n",
       "      <td>NaN</td>\n",
       "      <td>...</td>\n",
       "      <td>Personal</td>\n",
       "      <td>NaN</td>\n",
       "      <td>3.0</td>\n",
       "      <td>NaN</td>\n",
       "      <td>NaN</td>\n",
       "      <td>NaN</td>\n",
       "      <td>IMC</td>\n",
       "      <td>Cruise</td>\n",
       "      <td>Probable Cause</td>\n",
       "      <td>26-02-2007</td>\n",
       "    </tr>\n",
       "    <tr>\n",
       "      <th>3</th>\n",
       "      <td>20001218X45448</td>\n",
       "      <td>Accident</td>\n",
       "      <td>LAX96LA321</td>\n",
       "      <td>1977-06-19</td>\n",
       "      <td>EUREKA, CA</td>\n",
       "      <td>United States</td>\n",
       "      <td>nan</td>\n",
       "      <td>nan</td>\n",
       "      <td>NaN</td>\n",
       "      <td>NaN</td>\n",
       "      <td>...</td>\n",
       "      <td>Personal</td>\n",
       "      <td>NaN</td>\n",
       "      <td>2.0</td>\n",
       "      <td>0.0</td>\n",
       "      <td>0.0</td>\n",
       "      <td>0.0</td>\n",
       "      <td>IMC</td>\n",
       "      <td>Cruise</td>\n",
       "      <td>Probable Cause</td>\n",
       "      <td>12-09-2000</td>\n",
       "    </tr>\n",
       "    <tr>\n",
       "      <th>4</th>\n",
       "      <td>20041105X01764</td>\n",
       "      <td>Accident</td>\n",
       "      <td>CHI79FA064</td>\n",
       "      <td>1979-08-02</td>\n",
       "      <td>Canton, OH</td>\n",
       "      <td>United States</td>\n",
       "      <td>nan</td>\n",
       "      <td>nan</td>\n",
       "      <td>NaN</td>\n",
       "      <td>NaN</td>\n",
       "      <td>...</td>\n",
       "      <td>Personal</td>\n",
       "      <td>NaN</td>\n",
       "      <td>1.0</td>\n",
       "      <td>2.0</td>\n",
       "      <td>NaN</td>\n",
       "      <td>0.0</td>\n",
       "      <td>VMC</td>\n",
       "      <td>Approach</td>\n",
       "      <td>Probable Cause</td>\n",
       "      <td>16-04-1980</td>\n",
       "    </tr>\n",
       "    <tr>\n",
       "      <th>...</th>\n",
       "      <td>...</td>\n",
       "      <td>...</td>\n",
       "      <td>...</td>\n",
       "      <td>...</td>\n",
       "      <td>...</td>\n",
       "      <td>...</td>\n",
       "      <td>...</td>\n",
       "      <td>...</td>\n",
       "      <td>...</td>\n",
       "      <td>...</td>\n",
       "      <td>...</td>\n",
       "      <td>...</td>\n",
       "      <td>...</td>\n",
       "      <td>...</td>\n",
       "      <td>...</td>\n",
       "      <td>...</td>\n",
       "      <td>...</td>\n",
       "      <td>...</td>\n",
       "      <td>...</td>\n",
       "      <td>...</td>\n",
       "      <td>...</td>\n",
       "    </tr>\n",
       "    <tr>\n",
       "      <th>90343</th>\n",
       "      <td>20221227106491</td>\n",
       "      <td>Accident</td>\n",
       "      <td>ERA23LA093</td>\n",
       "      <td>2022-12-26</td>\n",
       "      <td>Annapolis, MD</td>\n",
       "      <td>United States</td>\n",
       "      <td>nan</td>\n",
       "      <td>nan</td>\n",
       "      <td>NaN</td>\n",
       "      <td>NaN</td>\n",
       "      <td>...</td>\n",
       "      <td>Personal</td>\n",
       "      <td>NaN</td>\n",
       "      <td>0.0</td>\n",
       "      <td>1.0</td>\n",
       "      <td>0.0</td>\n",
       "      <td>0.0</td>\n",
       "      <td>NaN</td>\n",
       "      <td>Unknown</td>\n",
       "      <td>NaN</td>\n",
       "      <td>29-12-2022</td>\n",
       "    </tr>\n",
       "    <tr>\n",
       "      <th>90344</th>\n",
       "      <td>20221227106494</td>\n",
       "      <td>Accident</td>\n",
       "      <td>ERA23LA095</td>\n",
       "      <td>2022-12-26</td>\n",
       "      <td>Hampton, NH</td>\n",
       "      <td>United States</td>\n",
       "      <td>nan</td>\n",
       "      <td>nan</td>\n",
       "      <td>NaN</td>\n",
       "      <td>NaN</td>\n",
       "      <td>...</td>\n",
       "      <td>NaN</td>\n",
       "      <td>NaN</td>\n",
       "      <td>0.0</td>\n",
       "      <td>0.0</td>\n",
       "      <td>0.0</td>\n",
       "      <td>0.0</td>\n",
       "      <td>NaN</td>\n",
       "      <td>Unknown</td>\n",
       "      <td>NaN</td>\n",
       "      <td>NaN</td>\n",
       "    </tr>\n",
       "    <tr>\n",
       "      <th>90345</th>\n",
       "      <td>20221227106497</td>\n",
       "      <td>Accident</td>\n",
       "      <td>WPR23LA075</td>\n",
       "      <td>2022-12-26</td>\n",
       "      <td>Payson, AZ</td>\n",
       "      <td>United States</td>\n",
       "      <td>341525N</td>\n",
       "      <td>1112021W</td>\n",
       "      <td>PAN</td>\n",
       "      <td>PAYSON</td>\n",
       "      <td>...</td>\n",
       "      <td>Personal</td>\n",
       "      <td>NaN</td>\n",
       "      <td>0.0</td>\n",
       "      <td>0.0</td>\n",
       "      <td>0.0</td>\n",
       "      <td>1.0</td>\n",
       "      <td>VMC</td>\n",
       "      <td>Unknown</td>\n",
       "      <td>NaN</td>\n",
       "      <td>27-12-2022</td>\n",
       "    </tr>\n",
       "    <tr>\n",
       "      <th>90346</th>\n",
       "      <td>20221227106498</td>\n",
       "      <td>Accident</td>\n",
       "      <td>WPR23LA076</td>\n",
       "      <td>2022-12-26</td>\n",
       "      <td>Morgan, UT</td>\n",
       "      <td>United States</td>\n",
       "      <td>nan</td>\n",
       "      <td>nan</td>\n",
       "      <td>NaN</td>\n",
       "      <td>NaN</td>\n",
       "      <td>...</td>\n",
       "      <td>Personal</td>\n",
       "      <td>MC CESSNA 210N LLC</td>\n",
       "      <td>0.0</td>\n",
       "      <td>0.0</td>\n",
       "      <td>0.0</td>\n",
       "      <td>0.0</td>\n",
       "      <td>NaN</td>\n",
       "      <td>Unknown</td>\n",
       "      <td>NaN</td>\n",
       "      <td>NaN</td>\n",
       "    </tr>\n",
       "    <tr>\n",
       "      <th>90347</th>\n",
       "      <td>20221230106513</td>\n",
       "      <td>Accident</td>\n",
       "      <td>ERA23LA097</td>\n",
       "      <td>2022-12-29</td>\n",
       "      <td>Athens, GA</td>\n",
       "      <td>United States</td>\n",
       "      <td>nan</td>\n",
       "      <td>nan</td>\n",
       "      <td>NaN</td>\n",
       "      <td>NaN</td>\n",
       "      <td>...</td>\n",
       "      <td>Personal</td>\n",
       "      <td>NaN</td>\n",
       "      <td>0.0</td>\n",
       "      <td>1.0</td>\n",
       "      <td>0.0</td>\n",
       "      <td>1.0</td>\n",
       "      <td>NaN</td>\n",
       "      <td>Unknown</td>\n",
       "      <td>NaN</td>\n",
       "      <td>30-12-2022</td>\n",
       "    </tr>\n",
       "  </tbody>\n",
       "</table>\n",
       "<p>88889 rows × 31 columns</p>\n",
       "</div>"
      ],
      "text/plain": [
       "             Event_Id Investigation_Type Accident_Number  Event_Date  \\\n",
       "0      20001218X45444           Accident      SEA87LA080  1948-10-24   \n",
       "1      20001218X45447           Accident      LAX94LA336  1962-07-19   \n",
       "2      20061025X01555           Accident      NYC07LA005  1974-08-30   \n",
       "3      20001218X45448           Accident      LAX96LA321  1977-06-19   \n",
       "4      20041105X01764           Accident      CHI79FA064  1979-08-02   \n",
       "...               ...                ...             ...         ...   \n",
       "90343  20221227106491           Accident      ERA23LA093  2022-12-26   \n",
       "90344  20221227106494           Accident      ERA23LA095  2022-12-26   \n",
       "90345  20221227106497           Accident      WPR23LA075  2022-12-26   \n",
       "90346  20221227106498           Accident      WPR23LA076  2022-12-26   \n",
       "90347  20221230106513           Accident      ERA23LA097  2022-12-29   \n",
       "\n",
       "              Location        Country   Latitude   Longitude Airport_Code  \\\n",
       "0      MOOSE CREEK, ID  United States        nan         nan          NaN   \n",
       "1       BRIDGEPORT, CA  United States        nan         nan          NaN   \n",
       "2        Saltville, VA  United States  36.922223  -81.878056          NaN   \n",
       "3           EUREKA, CA  United States        nan         nan          NaN   \n",
       "4           Canton, OH  United States        nan         nan          NaN   \n",
       "...                ...            ...        ...         ...          ...   \n",
       "90343    Annapolis, MD  United States        nan         nan          NaN   \n",
       "90344      Hampton, NH  United States        nan         nan          NaN   \n",
       "90345       Payson, AZ  United States    341525N    1112021W          PAN   \n",
       "90346       Morgan, UT  United States        nan         nan          NaN   \n",
       "90347       Athens, GA  United States        nan         nan          NaN   \n",
       "\n",
       "      Airport_Name  ... Purpose_of_flight         Air_carrier  \\\n",
       "0              NaN  ...          Personal                 NaN   \n",
       "1              NaN  ...          Personal                 NaN   \n",
       "2              NaN  ...          Personal                 NaN   \n",
       "3              NaN  ...          Personal                 NaN   \n",
       "4              NaN  ...          Personal                 NaN   \n",
       "...            ...  ...               ...                 ...   \n",
       "90343          NaN  ...          Personal                 NaN   \n",
       "90344          NaN  ...               NaN                 NaN   \n",
       "90345       PAYSON  ...          Personal                 NaN   \n",
       "90346          NaN  ...          Personal  MC CESSNA 210N LLC   \n",
       "90347          NaN  ...          Personal                 NaN   \n",
       "\n",
       "      Total_Fatal_Injuries Total_Serious_Injuries Total_Minor_Injuries  \\\n",
       "0                      2.0                    0.0                  0.0   \n",
       "1                      4.0                    0.0                  0.0   \n",
       "2                      3.0                    NaN                  NaN   \n",
       "3                      2.0                    0.0                  0.0   \n",
       "4                      1.0                    2.0                  NaN   \n",
       "...                    ...                    ...                  ...   \n",
       "90343                  0.0                    1.0                  0.0   \n",
       "90344                  0.0                    0.0                  0.0   \n",
       "90345                  0.0                    0.0                  0.0   \n",
       "90346                  0.0                    0.0                  0.0   \n",
       "90347                  0.0                    1.0                  0.0   \n",
       "\n",
       "      Total_Uninjured Weather_Condition  Broad_phase_of_flight  \\\n",
       "0                 0.0               UNK                 Cruise   \n",
       "1                 0.0               UNK                Unknown   \n",
       "2                 NaN               IMC                 Cruise   \n",
       "3                 0.0               IMC                 Cruise   \n",
       "4                 0.0               VMC               Approach   \n",
       "...               ...               ...                    ...   \n",
       "90343             0.0               NaN                Unknown   \n",
       "90344             0.0               NaN                Unknown   \n",
       "90345             1.0               VMC                Unknown   \n",
       "90346             0.0               NaN                Unknown   \n",
       "90347             1.0               NaN                Unknown   \n",
       "\n",
       "        Report_Status Publication_Date  \n",
       "0      Probable Cause              NaN  \n",
       "1      Probable Cause       19-09-1996  \n",
       "2      Probable Cause       26-02-2007  \n",
       "3      Probable Cause       12-09-2000  \n",
       "4      Probable Cause       16-04-1980  \n",
       "...               ...              ...  \n",
       "90343             NaN       29-12-2022  \n",
       "90344             NaN              NaN  \n",
       "90345             NaN       27-12-2022  \n",
       "90346             NaN              NaN  \n",
       "90347             NaN       30-12-2022  \n",
       "\n",
       "[88889 rows x 31 columns]"
      ]
     },
     "execution_count": 16,
     "metadata": {},
     "output_type": "execute_result"
    }
   ],
   "source": [
    "#drop all rows that do not contain incident or accident as an investigation type\n",
    "aircraft_df = aircraft_df[aircraft_df.Investigation_Type.isin(investigation_excluded_values)]\n",
    "aircraft_df"
   ]
  },
  {
   "cell_type": "code",
   "execution_count": 17,
   "metadata": {},
   "outputs": [
    {
     "data": {
      "text/plain": [
       "array(['Accident', 'Incident'], dtype=object)"
      ]
     },
     "execution_count": 17,
     "metadata": {},
     "output_type": "execute_result"
    }
   ],
   "source": [
    "#double-check the only investigation values are Accident and Incident\n",
    "aircraft_df.Investigation_Type.unique()"
   ]
  },
  {
   "cell_type": "code",
   "execution_count": 18,
   "metadata": {},
   "outputs": [
    {
     "name": "stdout",
     "output_type": "stream",
     "text": [
      "             Event_Id Investigation_Type Accident_Number  Event_Date  \\\n",
      "23     20020917X02333           Incident      LAX82IA034  1982-01-03   \n",
      "40     20020917X01764           Incident      ATL82IA029  1982-01-05   \n",
      "79     20020917X01897           Incident      CHI82IA026  1982-01-12   \n",
      "80     20020917X01765           Incident      ATL82IA034  1982-01-12   \n",
      "119    20020917X01766           Incident      ATL82IA038  1982-01-19   \n",
      "...               ...                ...             ...         ...   \n",
      "90268  20221125106356           Incident      DCA23WA074  2022-11-21   \n",
      "90278  20221125106362           Incident      DCA23WA076  2022-11-24   \n",
      "90280  20221125106357           Incident      DCA23WA075  2022-11-25   \n",
      "90285  20221222106484           Incident      DCA23WA099  2022-11-26   \n",
      "90310  20221222106485           Incident      DCA23WA100  2022-12-05   \n",
      "\n",
      "             Location        Country Latitude Longitude Airport_Code  \\\n",
      "23       VAN NUYS, CA  United States      nan       nan          VNY   \n",
      "40      PENSACOLA, FL  United States      nan       nan          NaN   \n",
      "79        CHICAGO, IL  United States      nan       nan          ORD   \n",
      "80     CLARKSBURG, WV  United States      nan       nan          CKB   \n",
      "119    WASHINGTON, DC  United States      nan       nan          IAD   \n",
      "...               ...            ...      ...       ...          ...   \n",
      "90268       Maturin,       Venezuela      nan       nan          NaN   \n",
      "90278     Maiquetía,       Venezuela      nan       nan          NaN   \n",
      "90280       Breslau,          Canada      nan       nan          NaN   \n",
      "90285       Bangkok,        Thailand      nan       nan          NaN   \n",
      "90310       Bangkok,        Thailand      nan       nan          NaN   \n",
      "\n",
      "                 Airport_Name  ... Purpose_of_flight  \\\n",
      "23                   VAN NUYS  ...          Personal   \n",
      "40                        NaN  ...          Business   \n",
      "79     CHICAGO O'HARE INTER'L  ...           Unknown   \n",
      "80                    BENEDUM  ...           Unknown   \n",
      "119                       NaN  ...             Ferry   \n",
      "...                       ...  ...               ...   \n",
      "90268                     NaN  ...               NaN   \n",
      "90278                     NaN  ...               NaN   \n",
      "90280                     NaN  ...               NaN   \n",
      "90285                     NaN  ...               NaN   \n",
      "90310                     NaN  ...               NaN   \n",
      "\n",
      "                     Air_carrier Total_Fatal_Injuries Total_Serious_Injuries  \\\n",
      "23                           NaN                  0.0                    0.0   \n",
      "40                           NaN                  0.0                    0.0   \n",
      "79          Trans World Airlines                  0.0                    0.0   \n",
      "80         Aeromech Incorporated                  0.0                    0.0   \n",
      "119                          NaN                  0.0                    0.0   \n",
      "...                          ...                  ...                    ...   \n",
      "90268                        NaN                  0.0                    0.0   \n",
      "90278     Turpial Airlines, C.A.                  0.0                    0.0   \n",
      "90280         Flair Airlines Ltd                  0.0                    0.0   \n",
      "90285                        NaN                  0.0                    0.0   \n",
      "90310  Thai Lion Mentari co.,ltd                  0.0                    0.0   \n",
      "\n",
      "      Total_Minor_Injuries Total_Uninjured Weather_Condition  \\\n",
      "23                     0.0             1.0               VMC   \n",
      "40                     0.0             1.0               VMC   \n",
      "79                     0.0           149.0               UNK   \n",
      "80                     0.0             2.0               VMC   \n",
      "119                    0.0             1.0               IMC   \n",
      "...                    ...             ...               ...   \n",
      "90268                  0.0            71.0               NaN   \n",
      "90278                  0.0            73.0               NaN   \n",
      "90280                  0.0           140.0               NaN   \n",
      "90285                  0.0           186.0               NaN   \n",
      "90310                  0.0           102.0               NaN   \n",
      "\n",
      "       Broad_phase_of_flight   Report_Status Publication_Date  \n",
      "23                  Approach  Probable Cause       03-01-1983  \n",
      "40                    Cruise  Probable Cause       05-01-1983  \n",
      "79                    Cruise  Probable Cause       12-01-1983  \n",
      "80                      Taxi  Probable Cause       12-01-1983  \n",
      "119                  Descent  Probable Cause       19-01-1983  \n",
      "...                      ...             ...              ...  \n",
      "90268                Unknown             NaN       25-11-2022  \n",
      "90278                Unknown             NaN       25-11-2022  \n",
      "90280                Unknown             NaN       25-11-2022  \n",
      "90285                Unknown             NaN       22-12-2022  \n",
      "90310                Unknown             NaN       22-12-2022  \n",
      "\n",
      "[3874 rows x 31 columns]\n"
     ]
    }
   ],
   "source": [
    "#look at some examples of rows where the Investigation_Type is 'Incident'\n",
    "print(aircraft_df[aircraft_df.Investigation_Type.isin(['Incident'])])"
   ]
  },
  {
   "cell_type": "code",
   "execution_count": 19,
   "metadata": {},
   "outputs": [
    {
     "data": {
      "text/html": [
       "<div>\n",
       "<style scoped>\n",
       "    .dataframe tbody tr th:only-of-type {\n",
       "        vertical-align: middle;\n",
       "    }\n",
       "\n",
       "    .dataframe tbody tr th {\n",
       "        vertical-align: top;\n",
       "    }\n",
       "\n",
       "    .dataframe thead th {\n",
       "        text-align: right;\n",
       "    }\n",
       "</style>\n",
       "<table border=\"1\" class=\"dataframe\">\n",
       "  <thead>\n",
       "    <tr style=\"text-align: right;\">\n",
       "      <th></th>\n",
       "      <th>Event_Id</th>\n",
       "      <th>Investigation_Type</th>\n",
       "      <th>Accident_Number</th>\n",
       "      <th>Event_Date</th>\n",
       "      <th>Location</th>\n",
       "      <th>Country</th>\n",
       "      <th>Latitude</th>\n",
       "      <th>Longitude</th>\n",
       "      <th>Airport_Code</th>\n",
       "      <th>Airport_Name</th>\n",
       "      <th>...</th>\n",
       "      <th>Purpose_of_flight</th>\n",
       "      <th>Air_carrier</th>\n",
       "      <th>Total_Fatal_Injuries</th>\n",
       "      <th>Total_Serious_Injuries</th>\n",
       "      <th>Total_Minor_Injuries</th>\n",
       "      <th>Total_Uninjured</th>\n",
       "      <th>Weather_Condition</th>\n",
       "      <th>Broad_phase_of_flight</th>\n",
       "      <th>Report_Status</th>\n",
       "      <th>Publication_Date</th>\n",
       "    </tr>\n",
       "  </thead>\n",
       "  <tbody>\n",
       "    <tr>\n",
       "      <th>0</th>\n",
       "      <td>20020917X02333</td>\n",
       "      <td>Incident</td>\n",
       "      <td>LAX82IA034</td>\n",
       "      <td>1982-01-03</td>\n",
       "      <td>VAN NUYS, CA</td>\n",
       "      <td>United States</td>\n",
       "      <td>nan</td>\n",
       "      <td>nan</td>\n",
       "      <td>VNY</td>\n",
       "      <td>VAN NUYS</td>\n",
       "      <td>...</td>\n",
       "      <td>Personal</td>\n",
       "      <td>NaN</td>\n",
       "      <td>0.0</td>\n",
       "      <td>0.0</td>\n",
       "      <td>0.0</td>\n",
       "      <td>1.0</td>\n",
       "      <td>VMC</td>\n",
       "      <td>Approach</td>\n",
       "      <td>Probable Cause</td>\n",
       "      <td>03-01-1983</td>\n",
       "    </tr>\n",
       "    <tr>\n",
       "      <th>1</th>\n",
       "      <td>20020917X01764</td>\n",
       "      <td>Incident</td>\n",
       "      <td>ATL82IA029</td>\n",
       "      <td>1982-01-05</td>\n",
       "      <td>PENSACOLA, FL</td>\n",
       "      <td>United States</td>\n",
       "      <td>nan</td>\n",
       "      <td>nan</td>\n",
       "      <td>NaN</td>\n",
       "      <td>NaN</td>\n",
       "      <td>...</td>\n",
       "      <td>Business</td>\n",
       "      <td>NaN</td>\n",
       "      <td>0.0</td>\n",
       "      <td>0.0</td>\n",
       "      <td>0.0</td>\n",
       "      <td>1.0</td>\n",
       "      <td>VMC</td>\n",
       "      <td>Cruise</td>\n",
       "      <td>Probable Cause</td>\n",
       "      <td>05-01-1983</td>\n",
       "    </tr>\n",
       "    <tr>\n",
       "      <th>2</th>\n",
       "      <td>20020917X01897</td>\n",
       "      <td>Incident</td>\n",
       "      <td>CHI82IA026</td>\n",
       "      <td>1982-01-12</td>\n",
       "      <td>CHICAGO, IL</td>\n",
       "      <td>United States</td>\n",
       "      <td>nan</td>\n",
       "      <td>nan</td>\n",
       "      <td>ORD</td>\n",
       "      <td>CHICAGO O'HARE INTER'L</td>\n",
       "      <td>...</td>\n",
       "      <td>Unknown</td>\n",
       "      <td>Trans World Airlines</td>\n",
       "      <td>0.0</td>\n",
       "      <td>0.0</td>\n",
       "      <td>0.0</td>\n",
       "      <td>149.0</td>\n",
       "      <td>UNK</td>\n",
       "      <td>Cruise</td>\n",
       "      <td>Probable Cause</td>\n",
       "      <td>12-01-1983</td>\n",
       "    </tr>\n",
       "    <tr>\n",
       "      <th>3</th>\n",
       "      <td>20020917X01765</td>\n",
       "      <td>Incident</td>\n",
       "      <td>ATL82IA034</td>\n",
       "      <td>1982-01-12</td>\n",
       "      <td>CLARKSBURG, WV</td>\n",
       "      <td>United States</td>\n",
       "      <td>nan</td>\n",
       "      <td>nan</td>\n",
       "      <td>CKB</td>\n",
       "      <td>BENEDUM</td>\n",
       "      <td>...</td>\n",
       "      <td>Unknown</td>\n",
       "      <td>Aeromech Incorporated</td>\n",
       "      <td>0.0</td>\n",
       "      <td>0.0</td>\n",
       "      <td>0.0</td>\n",
       "      <td>2.0</td>\n",
       "      <td>VMC</td>\n",
       "      <td>Taxi</td>\n",
       "      <td>Probable Cause</td>\n",
       "      <td>12-01-1983</td>\n",
       "    </tr>\n",
       "    <tr>\n",
       "      <th>4</th>\n",
       "      <td>20020917X01766</td>\n",
       "      <td>Incident</td>\n",
       "      <td>ATL82IA038</td>\n",
       "      <td>1982-01-19</td>\n",
       "      <td>WASHINGTON, DC</td>\n",
       "      <td>United States</td>\n",
       "      <td>nan</td>\n",
       "      <td>nan</td>\n",
       "      <td>IAD</td>\n",
       "      <td>NaN</td>\n",
       "      <td>...</td>\n",
       "      <td>Ferry</td>\n",
       "      <td>NaN</td>\n",
       "      <td>0.0</td>\n",
       "      <td>0.0</td>\n",
       "      <td>0.0</td>\n",
       "      <td>1.0</td>\n",
       "      <td>IMC</td>\n",
       "      <td>Descent</td>\n",
       "      <td>Probable Cause</td>\n",
       "      <td>19-01-1983</td>\n",
       "    </tr>\n",
       "  </tbody>\n",
       "</table>\n",
       "<p>5 rows × 31 columns</p>\n",
       "</div>"
      ],
      "text/plain": [
       "         Event_Id Investigation_Type Accident_Number  Event_Date  \\\n",
       "0  20020917X02333           Incident      LAX82IA034  1982-01-03   \n",
       "1  20020917X01764           Incident      ATL82IA029  1982-01-05   \n",
       "2  20020917X01897           Incident      CHI82IA026  1982-01-12   \n",
       "3  20020917X01765           Incident      ATL82IA034  1982-01-12   \n",
       "4  20020917X01766           Incident      ATL82IA038  1982-01-19   \n",
       "\n",
       "         Location        Country Latitude Longitude Airport_Code  \\\n",
       "0    VAN NUYS, CA  United States      nan       nan          VNY   \n",
       "1   PENSACOLA, FL  United States      nan       nan          NaN   \n",
       "2     CHICAGO, IL  United States      nan       nan          ORD   \n",
       "3  CLARKSBURG, WV  United States      nan       nan          CKB   \n",
       "4  WASHINGTON, DC  United States      nan       nan          IAD   \n",
       "\n",
       "             Airport_Name  ... Purpose_of_flight            Air_carrier  \\\n",
       "0                VAN NUYS  ...          Personal                    NaN   \n",
       "1                     NaN  ...          Business                    NaN   \n",
       "2  CHICAGO O'HARE INTER'L  ...           Unknown   Trans World Airlines   \n",
       "3                 BENEDUM  ...           Unknown  Aeromech Incorporated   \n",
       "4                     NaN  ...             Ferry                    NaN   \n",
       "\n",
       "  Total_Fatal_Injuries Total_Serious_Injuries Total_Minor_Injuries  \\\n",
       "0                  0.0                    0.0                  0.0   \n",
       "1                  0.0                    0.0                  0.0   \n",
       "2                  0.0                    0.0                  0.0   \n",
       "3                  0.0                    0.0                  0.0   \n",
       "4                  0.0                    0.0                  0.0   \n",
       "\n",
       "  Total_Uninjured Weather_Condition  Broad_phase_of_flight   Report_Status  \\\n",
       "0             1.0               VMC               Approach  Probable Cause   \n",
       "1             1.0               VMC                 Cruise  Probable Cause   \n",
       "2           149.0               UNK                 Cruise  Probable Cause   \n",
       "3             2.0               VMC                   Taxi  Probable Cause   \n",
       "4             1.0               IMC                Descent  Probable Cause   \n",
       "\n",
       "  Publication_Date  \n",
       "0       03-01-1983  \n",
       "1       05-01-1983  \n",
       "2       12-01-1983  \n",
       "3       12-01-1983  \n",
       "4       19-01-1983  \n",
       "\n",
       "[5 rows x 31 columns]"
      ]
     },
     "execution_count": 19,
     "metadata": {},
     "output_type": "execute_result"
    }
   ],
   "source": [
    "#create a dataframe of only incident flights and review their data\n",
    "incident_aircraft_df = aircraft_df[aircraft_df.Investigation_Type.isin(['Incident'])].reset_index(drop=True)\n",
    "incident_aircraft_df.head()"
   ]
  },
  {
   "cell_type": "code",
   "execution_count": 20,
   "metadata": {},
   "outputs": [
    {
     "name": "stdout",
     "output_type": "stream",
     "text": [
      "[ 0. nan  1.  2.  3.]\n",
      "[ 0. nan  1. 11.  6. 88.  2. 33.  5.  3.  7.  4. 13.  8. 27.  9.]\n",
      "[  0.  nan   1.  17.  33.  14.   2.   6.  13.   4.   3.  42.   7.  16.\n",
      "  10.  11.  18.  24.  25.  12.   5.  22.   9.   8.  28. 380.]\n"
     ]
    }
   ],
   "source": [
    "#check for injuries in incident dataframe\n",
    "print(incident_aircraft_df.Total_Fatal_Injuries.unique())\n",
    "print(incident_aircraft_df.Total_Serious_Injuries.unique())\n",
    "print(incident_aircraft_df.Total_Minor_Injuries.unique())"
   ]
  },
  {
   "cell_type": "code",
   "execution_count": 21,
   "metadata": {},
   "outputs": [
    {
     "name": "stdout",
     "output_type": "stream",
     "text": [
      "0    Probable Cause\n",
      "1    Probable Cause\n",
      "2    Probable Cause\n",
      "3    Probable Cause\n",
      "4    Probable Cause\n",
      "Name: Report_Status, dtype: object\n",
      "3869    NaN\n",
      "3870    NaN\n",
      "3871    NaN\n",
      "3872    NaN\n",
      "3873    NaN\n",
      "Name: Report_Status, dtype: object\n"
     ]
    }
   ],
   "source": [
    "#check the different report statuses in incident dataframe\n",
    "print(incident_aircraft_df.Report_Status.head())\n",
    "print(incident_aircraft_df.Report_Status.tail())"
   ]
  },
  {
   "cell_type": "code",
   "execution_count": 22,
   "metadata": {},
   "outputs": [
    {
     "name": "stdout",
     "output_type": "stream",
     "text": [
      "6384\n"
     ]
    }
   ],
   "source": [
    "#determine how many entries have a blank report status field in aircraft_df\n",
    "print(aircraft_df.Report_Status.isnull().sum())"
   ]
  },
  {
   "cell_type": "code",
   "execution_count": 23,
   "metadata": {},
   "outputs": [
    {
     "name": "stdout",
     "output_type": "stream",
     "text": [
      "Air_carrier\n",
      "NaN                                  72241\n",
      "Pilot                                  258\n",
      "American Airlines                       90\n",
      "United Airlines                         89\n",
      "Delta Air Lines                         53\n",
      "                                     ...  \n",
      "American Classic Outfitters, Inc.        1\n",
      "Great Lakes Aviation, Ltd.               1\n",
      "Harold Parker                            1\n",
      "Ernie Dale Willis                        1\n",
      "MC CESSNA 210N LLC                       1\n",
      "Name: count, Length: 13591, dtype: int64\n"
     ]
    }
   ],
   "source": [
    "#find the different entries for the carrier \n",
    "print(aircraft_df.Air_carrier.value_counts(dropna=False))"
   ]
  },
  {
   "cell_type": "code",
   "execution_count": 24,
   "metadata": {},
   "outputs": [
    {
     "name": "stdout",
     "output_type": "stream",
     "text": [
      "Make\n",
      "Cessna             22227\n",
      "Piper              12029\n",
      "CESSNA              4922\n",
      "Beech               4330\n",
      "PIPER               2841\n",
      "                   ...  \n",
      "Leonard Walters        1\n",
      "Maule Air Inc.         1\n",
      "Motley Vans            1\n",
      "Perlick                1\n",
      "ROYSE RALPH L          1\n",
      "Name: count, Length: 8238, dtype: int64\n"
     ]
    }
   ],
   "source": [
    "#find the different entries for the aircraft make\n",
    "print(aircraft_df.Make.value_counts(dropna=False))"
   ]
  },
  {
   "cell_type": "code",
   "execution_count": 25,
   "metadata": {},
   "outputs": [
    {
     "name": "stdout",
     "output_type": "stream",
     "text": [
      "Make: nan, Data Type: float\n"
     ]
    }
   ],
   "source": [
    "#Check the data types that are not a string for the different values in the Make column\n",
    "make_unique_values = aircraft_df.Make.unique()\n",
    "make_data_types = {value: type(value).__name__ for value in make_unique_values}\n",
    "for make, data_type in make_data_types.items():\n",
    "    if data_type != 'str':\n",
    "        print(f\"Make: {make}, Data Type: {data_type}\")"
   ]
  },
  {
   "cell_type": "code",
   "execution_count": 26,
   "metadata": {},
   "outputs": [
    {
     "name": "stdout",
     "output_type": "stream",
     "text": [
      "63\n"
     ]
    }
   ],
   "source": [
    "#Get the sum of rows where the Make column is null\n",
    "print(aircraft_df.Make.isnull().sum())"
   ]
  },
  {
   "cell_type": "code",
   "execution_count": 27,
   "metadata": {},
   "outputs": [
    {
     "name": "stdout",
     "output_type": "stream",
     "text": [
      "             Event_Id Investigation_Type Accident_Number  Event_Date  \\\n",
      "1767   20020917X02887           Accident      ATL82FLQ07  1982-07-01   \n",
      "1971   20020917X02861           Accident      ATL82FIG10  1982-07-16   \n",
      "2458   20020917X03618           Accident      LAX82DA316  1982-08-21   \n",
      "2507   20020917X03865           Accident      MKC82DA156  1982-08-24   \n",
      "2733   20020917X04964           Accident      MKC82FA171  1982-09-11   \n",
      "...               ...                ...             ...         ...   \n",
      "73385  20130307X10950           Incident      DCA13WA062  2013-03-06   \n",
      "73735  20130531X43222           Incident      DCA13WA097  2013-05-22   \n",
      "73761  20130808X52306           Incident      CEN13WA470  2013-05-26   \n",
      "75113  20140327X61657           Accident      ERA14LA174  2014-03-26   \n",
      "78394  20160314X33602           Incident      ENG16WA009  2016-03-10   \n",
      "\n",
      "                  Location        Country Latitude Longitude Airport_Code  \\\n",
      "1767         MCWHORTER, KY  United States      nan       nan          NaN   \n",
      "1971         FREDERICK, MD  United States      nan       nan          NaN   \n",
      "2458           VENTURA, CA  United States      nan       nan          NaN   \n",
      "2507            SIDNEY, NE  United States      nan       nan          SNY   \n",
      "2733        PLATTSBURG, MO  United States      nan       nan          NaN   \n",
      "...                    ...            ...      ...       ...          ...   \n",
      "73385          Chicago, IL  United States  415322N  0873710W          NaN   \n",
      "73735  Panama City, Panama         Panama      nan       nan          NaN   \n",
      "73761     Geneva, Eswatini       Eswatini      nan       nan          NaN   \n",
      "75113         Patillas, PR  United States  175831N  0066115W          X64   \n",
      "78394     Zurich, Eswatini       Eswatini      nan       nan          NaN   \n",
      "\n",
      "           Airport_Name  ... Purpose_of_flight     Air_carrier  \\\n",
      "1767                NaN  ...          Personal             NaN   \n",
      "1971    FREDERICK MUNI.  ...           Unknown             NaN   \n",
      "2458                NaN  ...          Personal             NaN   \n",
      "2507        SIDNEY MUNI  ...          Personal             NaN   \n",
      "2733                NaN  ...          Personal             NaN   \n",
      "...                 ...  ...               ...             ...   \n",
      "73385               NaN  ...               NaN             NaN   \n",
      "73735               NaN  ...               NaN             NaN   \n",
      "73761               NaN  ...               NaN             NaN   \n",
      "75113  Patillas Airport  ...          Personal  Emerito Guzman   \n",
      "78394               NaN  ...               NaN             NaN   \n",
      "\n",
      "      Total_Fatal_Injuries Total_Serious_Injuries Total_Minor_Injuries  \\\n",
      "1767                   0.0                    1.0                  1.0   \n",
      "1971                   1.0                    0.0                  0.0   \n",
      "2458                   0.0                    0.0                  0.0   \n",
      "2507                   0.0                    0.0                  0.0   \n",
      "2733                   0.0                    2.0                  0.0   \n",
      "...                    ...                    ...                  ...   \n",
      "73385                  0.0                    0.0                  0.0   \n",
      "73735                  0.0                    0.0                  0.0   \n",
      "73761                  0.0                    0.0                  0.0   \n",
      "75113                  1.0                    0.0                  0.0   \n",
      "78394                  0.0                    0.0                  0.0   \n",
      "\n",
      "      Total_Uninjured Weather_Condition  Broad_phase_of_flight  \\\n",
      "1767              0.0               VMC                 Cruise   \n",
      "1971              0.0               VMC               Approach   \n",
      "2458              1.0               VMC            Maneuvering   \n",
      "2507              1.0               VMC                Landing   \n",
      "2733              0.0               VMC                Takeoff   \n",
      "...               ...               ...                    ...   \n",
      "73385             0.0               NaN                Unknown   \n",
      "73735            90.0               NaN                Unknown   \n",
      "73761             0.0               VMC                Unknown   \n",
      "75113             0.0               VMC                Unknown   \n",
      "78394            90.0               NaN                Unknown   \n",
      "\n",
      "                                           Report_Status Publication_Date  \n",
      "1767                                      Probable Cause       01-07-1983  \n",
      "1971                                      Probable Cause       16-07-1983  \n",
      "2458                                      Probable Cause       21-08-1983  \n",
      "2507                                      Probable Cause       24-08-1983  \n",
      "2733                                      Probable Cause       11-09-1983  \n",
      "...                                                  ...              ...  \n",
      "73385                                                NaN       25-09-2020  \n",
      "73735                                                NaN       03-11-2020  \n",
      "73761                                                NaN       03-11-2020  \n",
      "75113  The pilots failure to maintain airplane contr...       25-09-2020  \n",
      "78394                                                NaN       25-09-2020  \n",
      "\n",
      "[63 rows x 31 columns]\n",
      "1767               KR-2\n",
      "1971          WINDWAGON\n",
      "2458     MIDGET MUSTANG\n",
      "2507            SKYBOLT\n",
      "2733     STARDUSTER TOO\n",
      "              ...      \n",
      "73385            Airbus\n",
      "73735               NaN\n",
      "73761               NaN\n",
      "75113               NaN\n",
      "78394               NaN\n",
      "Name: Model, Length: 63, dtype: object\n",
      "1767     Airplane\n",
      "1971     Airplane\n",
      "2458     Airplane\n",
      "2507     Airplane\n",
      "2733     Airplane\n",
      "           ...   \n",
      "73385         NaN\n",
      "73735         NaN\n",
      "73761         NaN\n",
      "75113    Airplane\n",
      "78394         NaN\n",
      "Name: Aircraft_Category, Length: 63, dtype: object\n"
     ]
    }
   ],
   "source": [
    "#Create a new data frame using only the rows where the Make column is null and observe the data\n",
    "make_null_df = aircraft_df[aircraft_df.Make.isnull()]\n",
    "print(make_null_df)\n",
    "print(make_null_df.Model)\n",
    "print(make_null_df.Aircraft_Category)"
   ]
  },
  {
   "cell_type": "code",
   "execution_count": 28,
   "metadata": {},
   "outputs": [
    {
     "name": "stdout",
     "output_type": "stream",
     "text": [
      "0\n"
     ]
    }
   ],
   "source": [
    "#Given the lack of details and the miniscule amount of entries with a null entry for Make, remove those 63 from the data frame\n",
    "aircraft_df.dropna(subset=['Make'], inplace=True)\n",
    "print(aircraft_df.Make.isnull().sum())"
   ]
  },
  {
   "cell_type": "code",
   "execution_count": 29,
   "metadata": {},
   "outputs": [
    {
     "name": "stdout",
     "output_type": "stream",
     "text": [
      "Make\n",
      "CESSNA           27149\n",
      "PIPER            14870\n",
      "BEECH             5372\n",
      "BOEING            2745\n",
      "BELL              2722\n",
      "                 ...  \n",
      "COHEN                1\n",
      "KITCHENS             1\n",
      "LUTES                1\n",
      "IZATT                1\n",
      "ROYSE RALPH L        1\n",
      "Name: count, Length: 7587, dtype: int64\n"
     ]
    }
   ],
   "source": [
    "#now convert all entries in the Make Column to strings and\n",
    "#adjust the capitalizations of the make column to eliminate different values of the same make\n",
    "aircraft_df['Make'] = aircraft_df['Make'].astype(str).str.upper()\n",
    "print(aircraft_df.Make.value_counts(dropna=False))"
   ]
  },
  {
   "cell_type": "code",
   "execution_count": 30,
   "metadata": {},
   "outputs": [
    {
     "name": "stdout",
     "output_type": "stream",
     "text": [
      "Air_carrier\n",
      "NA                         72202\n",
      "PILOT                        258\n",
      "UNITED AIRLINES               89\n",
      "AMERICAN AIRLINES             89\n",
      "DELTA AIR LINES               53\n",
      "                           ...  \n",
      "WORGULL ROBERT C               1\n",
      "BRANHAM ADVENTURES INC.        1\n",
      "PRIDMORE-BROWN JULIAN N        1\n",
      "AURORA AVIATION, LLC           1\n",
      "MC CESSNA 210N LLC             1\n",
      "Name: count, Length: 13193, dtype: int64\n"
     ]
    }
   ],
   "source": [
    "#do the same thing for the air carrier\n",
    "aircraft_df['Air_carrier'] = aircraft_df['Air_carrier'].astype(str).str.upper().replace('NAN', 'NA')\n",
    "print(aircraft_df.Air_carrier.value_counts(dropna=False))"
   ]
  },
  {
   "cell_type": "code",
   "execution_count": 31,
   "metadata": {
    "scrolled": true
   },
   "outputs": [
    {
     "name": "stdout",
     "output_type": "stream",
     "text": [
      "Model\n",
      "152                    2367\n",
      "172                    1756\n",
      "172N                   1164\n",
      "PA-28-140               932\n",
      "150                     829\n",
      "                       ... \n",
      "CHALLENGER 2              1\n",
      "BUSHBY MUSTANG M-II       1\n",
      "HARVARD MK II             1\n",
      "UC45J                     1\n",
      "M-8 EAGLE                 1\n",
      "Name: count, Length: 11641, dtype: int64\n"
     ]
    }
   ],
   "source": [
    "#do the same thing for the air model\n",
    "aircraft_df['Model'] = aircraft_df['Model'].astype(str).str.upper()\n",
    "print(aircraft_df.Model.value_counts(dropna=False))"
   ]
  },
  {
   "cell_type": "code",
   "execution_count": 32,
   "metadata": {},
   "outputs": [
    {
     "name": "stdout",
     "output_type": "stream",
     "text": [
      "         Event_Id Investigation_Type Accident_Number  Event_Date  \\\n",
      "0  20001218X45444           Accident      SEA87LA080  1948-10-24   \n",
      "1  20001218X45447           Accident      LAX94LA336  1962-07-19   \n",
      "2  20061025X01555           Accident      NYC07LA005  1974-08-30   \n",
      "3  20001218X45448           Accident      LAX96LA321  1977-06-19   \n",
      "4  20041105X01764           Accident      CHI79FA064  1979-08-02   \n",
      "\n",
      "          Location        Country   Latitude   Longitude Airport_Code  \\\n",
      "0  MOOSE CREEK, ID  United States        nan         nan          NaN   \n",
      "1   BRIDGEPORT, CA  United States        nan         nan          NaN   \n",
      "2    Saltville, VA  United States  36.922223  -81.878056          NaN   \n",
      "3       EUREKA, CA  United States        nan         nan          NaN   \n",
      "4       Canton, OH  United States        nan         nan          NaN   \n",
      "\n",
      "  Airport_Name  ... Purpose_of_flight Air_carrier Total_Fatal_Injuries  \\\n",
      "0          NaN  ...          Personal          NA                  2.0   \n",
      "1          NaN  ...          Personal          NA                  4.0   \n",
      "2          NaN  ...          Personal          NA                  3.0   \n",
      "3          NaN  ...          Personal          NA                  2.0   \n",
      "4          NaN  ...          Personal          NA                  1.0   \n",
      "\n",
      "  Total_Serious_Injuries Total_Minor_Injuries Total_Uninjured  \\\n",
      "0                    0.0                  0.0             0.0   \n",
      "1                    0.0                  0.0             0.0   \n",
      "2                    NaN                  NaN             NaN   \n",
      "3                    0.0                  0.0             0.0   \n",
      "4                    2.0                  NaN             0.0   \n",
      "\n",
      "  Weather_Condition  Broad_phase_of_flight   Report_Status Publication_Date  \n",
      "0               UNK                 Cruise  Probable Cause              NaN  \n",
      "1               UNK                Unknown  Probable Cause       19-09-1996  \n",
      "2               IMC                 Cruise  Probable Cause       26-02-2007  \n",
      "3               IMC                 Cruise  Probable Cause       12-09-2000  \n",
      "4               VMC               Approach  Probable Cause       16-04-1980  \n",
      "\n",
      "[5 rows x 31 columns]\n",
      "             Event_Id Investigation_Type Accident_Number  Event_Date  \\\n",
      "90343  20221227106491           Accident      ERA23LA093  2022-12-26   \n",
      "90344  20221227106494           Accident      ERA23LA095  2022-12-26   \n",
      "90345  20221227106497           Accident      WPR23LA075  2022-12-26   \n",
      "90346  20221227106498           Accident      WPR23LA076  2022-12-26   \n",
      "90347  20221230106513           Accident      ERA23LA097  2022-12-29   \n",
      "\n",
      "            Location        Country Latitude Longitude Airport_Code  \\\n",
      "90343  Annapolis, MD  United States      nan       nan          NaN   \n",
      "90344    Hampton, NH  United States      nan       nan          NaN   \n",
      "90345     Payson, AZ  United States  341525N  1112021W          PAN   \n",
      "90346     Morgan, UT  United States      nan       nan          NaN   \n",
      "90347     Athens, GA  United States      nan       nan          NaN   \n",
      "\n",
      "      Airport_Name  ... Purpose_of_flight         Air_carrier  \\\n",
      "90343          NaN  ...          Personal                  NA   \n",
      "90344          NaN  ...               NaN                  NA   \n",
      "90345       PAYSON  ...          Personal                  NA   \n",
      "90346          NaN  ...          Personal  MC CESSNA 210N LLC   \n",
      "90347          NaN  ...          Personal                  NA   \n",
      "\n",
      "      Total_Fatal_Injuries Total_Serious_Injuries Total_Minor_Injuries  \\\n",
      "90343                  0.0                    1.0                  0.0   \n",
      "90344                  0.0                    0.0                  0.0   \n",
      "90345                  0.0                    0.0                  0.0   \n",
      "90346                  0.0                    0.0                  0.0   \n",
      "90347                  0.0                    1.0                  0.0   \n",
      "\n",
      "      Total_Uninjured Weather_Condition  Broad_phase_of_flight Report_Status  \\\n",
      "90343             0.0               NaN                Unknown           NaN   \n",
      "90344             0.0               NaN                Unknown           NaN   \n",
      "90345             1.0               VMC                Unknown           NaN   \n",
      "90346             0.0               NaN                Unknown           NaN   \n",
      "90347             1.0               NaN                Unknown           NaN   \n",
      "\n",
      "      Publication_Date  \n",
      "90343       29-12-2022  \n",
      "90344              NaN  \n",
      "90345       27-12-2022  \n",
      "90346              NaN  \n",
      "90347       30-12-2022  \n",
      "\n",
      "[5 rows x 31 columns]\n"
     ]
    }
   ],
   "source": [
    "#examine the dataframe again\n",
    "print(aircraft_df.head())\n",
    "print(aircraft_df.tail())"
   ]
  },
  {
   "cell_type": "code",
   "execution_count": 33,
   "metadata": {},
   "outputs": [
    {
     "name": "stdout",
     "output_type": "stream",
     "text": [
      "Airport_Name\n",
      "NaN                               36137\n",
      "Private                             240\n",
      "PRIVATE                             224\n",
      "Private Airstrip                    153\n",
      "NONE                                146\n",
      "                                  ...  \n",
      "OTTAWA MUNICIPAL                      1\n",
      "DWIGHT AIRPORT                        1\n",
      "PHOENIX DEER VALLEY MUNI              1\n",
      "SEASIDE PARK                          1\n",
      "WICHITA DWIGHT D EISENHOWER NT        1\n",
      "Name: count, Length: 24863, dtype: int64\n"
     ]
    }
   ],
   "source": [
    "#check the unique values of the airport_name\n",
    "print(aircraft_df.Airport_Name.value_counts(dropna=False))"
   ]
  },
  {
   "cell_type": "code",
   "execution_count": 34,
   "metadata": {},
   "outputs": [
    {
     "name": "stdout",
     "output_type": "stream",
     "text": [
      "Airport_Name\n",
      "NaN                               36137\n",
      "PRIVATE                             471\n",
      "PRIVATE AIRSTRIP                    266\n",
      "PRIVATE STRIP                       161\n",
      "NONE                                146\n",
      "                                  ...  \n",
      "KELLEY'S ISLAND LAND FLD              1\n",
      "EUREKA MUNICIPAL                      1\n",
      "NEAR VICTORY                          1\n",
      "LAKES REGIONAL AIRPORT                1\n",
      "WICHITA DWIGHT D EISENHOWER NT        1\n",
      "Name: count, Length: 21560, dtype: int64\n"
     ]
    }
   ],
   "source": [
    "#capitalize all airport_name entries\n",
    "aircraft_df.Airport_Name = aircraft_df.Airport_Name.str.upper()\n",
    "print(aircraft_df.Airport_Name.value_counts(dropna=False))"
   ]
  },
  {
   "cell_type": "code",
   "execution_count": 35,
   "metadata": {},
   "outputs": [
    {
     "name": "stdout",
     "output_type": "stream",
     "text": [
      "Airport_Name\n",
      "NaN                               36283\n",
      "PRIVATE                             471\n",
      "PRIVATE AIRSTRIP                    266\n",
      "PRIVATE STRIP                       161\n",
      "MERRILL FIELD                       109\n",
      "                                  ...  \n",
      "KELLEY'S ISLAND LAND FLD              1\n",
      "EUREKA MUNICIPAL                      1\n",
      "NEAR VICTORY                          1\n",
      "LAKES REGIONAL AIRPORT                1\n",
      "WICHITA DWIGHT D EISENHOWER NT        1\n",
      "Name: count, Length: 21559, dtype: int64\n"
     ]
    }
   ],
   "source": [
    "#combine NaN with NONE in the airport_name column\n",
    "aircraft_df.Airport_Name = aircraft_df.Airport_Name.replace('NONE', np.nan)\n",
    "print(aircraft_df.Airport_Name.value_counts(dropna=False))"
   ]
  },
  {
   "cell_type": "code",
   "execution_count": 36,
   "metadata": {},
   "outputs": [
    {
     "name": "stdout",
     "output_type": "stream",
     "text": [
      "Airport_Name\n",
      "NA                                36284\n",
      "PRIVATE                            1211\n",
      "MERRILL FIELD                       109\n",
      "CENTENNIAL                          102\n",
      "VAN NUYS                             97\n",
      "                                  ...  \n",
      "WEST TINIAN                           1\n",
      "ANTIQUERS                             1\n",
      "BURNHAM FIELD                         1\n",
      "NAS GUANTANAMO BAY                    1\n",
      "WICHITA DWIGHT D EISENHOWER NT        1\n",
      "Name: count, Length: 21337, dtype: int64\n"
     ]
    }
   ],
   "source": [
    "#convert NaN to a string and create one value in the Airport_Name column for entries that are private\n",
    "aircraft_df.Airport_Name = aircraft_df.Airport_Name.fillna('NA')\n",
    "aircraft_df.loc[aircraft_df.Airport_Name.str.contains('PRIVATE', case=False), 'Airport_Name'] = 'PRIVATE'\n",
    "print(aircraft_df.Airport_Name.value_counts(dropna=False))"
   ]
  },
  {
   "cell_type": "code",
   "execution_count": 37,
   "metadata": {},
   "outputs": [
    {
     "name": "stdout",
     "output_type": "stream",
     "text": [
      "0        False\n",
      "1        False\n",
      "2        False\n",
      "3        False\n",
      "4        False\n",
      "         ...  \n",
      "90343    False\n",
      "90344    False\n",
      "90345    False\n",
      "90346    False\n",
      "90347    False\n",
      "Name: Air_carrier, Length: 88826, dtype: bool\n"
     ]
    }
   ],
   "source": [
    "#create one value for unknown, none, na, and nan in the aircraft carrier column\n",
    "unknown_values = ['none', 'unknown', 'nan']\n",
    "aircraft_df.Air_carrier = aircraft_df.Air_carrier.replace(['NONE', 'UNKNOWN', 'NAN'], 'NA')\n",
    "print(aircraft_df.Air_carrier.str.lower().isin(unknown_values))"
   ]
  },
  {
   "cell_type": "code",
   "execution_count": 38,
   "metadata": {},
   "outputs": [],
   "source": [
    "#do the same thing for the Make column\n",
    "aircraft_df.Make = aircraft_df.Make.replace(['NONE', 'UNKNOWN', 'NAN'], 'NA')"
   ]
  },
  {
   "cell_type": "code",
   "execution_count": 39,
   "metadata": {},
   "outputs": [],
   "source": [
    "#do the same thing for the Model column\n",
    "aircraft_df.Model = aircraft_df.Model.replace(['NONE', 'UNKNOWN', 'NAN'], 'NA')"
   ]
  },
  {
   "cell_type": "code",
   "execution_count": 40,
   "metadata": {},
   "outputs": [
    {
     "name": "stdout",
     "output_type": "stream",
     "text": [
      "[['CESSNA', 27149], ['PIPER', 14870], ['BEECH', 5372], ['BOEING', 2745], ['BELL', 2722], ['MOONEY', 1334], ['ROBINSON', 1230], ['GRUMMAN', 1172], ['BELLANCA', 1045], ['HUGHES', 932]]\n",
      "58571\n"
     ]
    }
   ],
   "source": [
    "#create a list of the top 10 aircraft makes and calculate their sum of appearances \n",
    "top_10_make_counts = aircraft_df.Make.value_counts().head(10).reset_index().values.tolist()\n",
    "print(top_10_make_counts)\n",
    "print(sum(count for value, count in top_10_make_counts))"
   ]
  },
  {
   "cell_type": "code",
   "execution_count": 41,
   "metadata": {},
   "outputs": [
    {
     "name": "stdout",
     "output_type": "stream",
     "text": [
      "[['CESSNA', '152', 2367], ['CESSNA', '172', 1756], ['CESSNA', '172N', 1164], ['PIPER', 'PA-28-140', 932], ['CESSNA', '150', 829], ['CESSNA', '172M', 798], ['CESSNA', '172P', 689], ['CESSNA', '182', 659], ['CESSNA', '180', 622], ['CESSNA', '150M', 585]]\n",
      "10401\n"
     ]
    }
   ],
   "source": [
    "#do the same thing for the Model column, including the corresponding Make value\n",
    "model_counts = aircraft_df['Model'].value_counts().head(10).reset_index()\n",
    "model_counts.columns = ['Model', 'Count']\n",
    "\n",
    "make_counts = aircraft_df.groupby('Model')['Make'].first().reset_index()\n",
    "\n",
    "result_df = pd.merge(model_counts, make_counts, on='Model')\n",
    "top_10_model_counts_merged = result_df[['Make', 'Model', 'Count']].values.tolist()\n",
    "print(top_10_model_counts_merged)\n",
    "print(result_df['Count'].sum())"
   ]
  },
  {
   "cell_type": "code",
   "execution_count": 42,
   "metadata": {},
   "outputs": [
    {
     "data": {
      "text/plain": [
       "Index(['Location', 'Country', 'Airport_Code', 'Injury_Severity',\n",
       "       'Aircraft_damage', 'Aircraft_Category', 'Registration_Number',\n",
       "       'Amateur_Built', 'Number_of_Engines', 'Engine_Type', 'FAR_Description',\n",
       "       'Schedule', 'Purpose_of_flight', 'Total_Fatal_Injuries',\n",
       "       'Total_Serious_Injuries', 'Total_Minor_Injuries', 'Total_Uninjured',\n",
       "       'Weather_Condition', 'Report_Status', 'Publication_Date'],\n",
       "      dtype='object')"
      ]
     },
     "execution_count": 42,
     "metadata": {},
     "output_type": "execute_result"
    }
   ],
   "source": [
    "#check which columns still have empty values\n",
    "columns_with_nan = aircraft_df.columns[aircraft_df.isna().any()]\n",
    "columns_with_nan"
   ]
  },
  {
   "cell_type": "code",
   "execution_count": 43,
   "metadata": {},
   "outputs": [
    {
     "data": {
      "text/plain": [
       "Location\n",
       "ANCHORAGE, AK         434\n",
       "MIAMI, FL             200\n",
       "ALBUQUERQUE, NM       196\n",
       "HOUSTON, TX           193\n",
       "CHICAGO, IL           184\n",
       "                     ... \n",
       "ST. JOSEPH, LA          1\n",
       "MILFORD CENTER, OH      1\n",
       "ELK GARDEN, VA          1\n",
       "PIURA, Peru             1\n",
       "Brasnorte,              1\n",
       "Name: count, Length: 27735, dtype: int64"
      ]
     },
     "execution_count": 43,
     "metadata": {},
     "output_type": "execute_result"
    }
   ],
   "source": [
    "#check Location value counts\n",
    "aircraft_df.Location.value_counts(dropna=False)"
   ]
  },
  {
   "cell_type": "code",
   "execution_count": 44,
   "metadata": {},
   "outputs": [
    {
     "data": {
      "text/plain": [
       "Country\n",
       "United States                       82227\n",
       "Brazil                                371\n",
       "Mexico                                358\n",
       "Canada                                357\n",
       "United Kingdom                        344\n",
       "                                    ...  \n",
       "Palau                                   1\n",
       "Libya                                   1\n",
       "Saint Vincent and the Grenadines        1\n",
       "Malampa                                 1\n",
       "Turks and Caicos Islands                1\n",
       "Name: count, Length: 220, dtype: int64"
      ]
     },
     "execution_count": 44,
     "metadata": {},
     "output_type": "execute_result"
    }
   ],
   "source": [
    "#check Country value counts\n",
    "aircraft_df.Country.value_counts(dropna=False)"
   ]
  },
  {
   "cell_type": "code",
   "execution_count": 45,
   "metadata": {},
   "outputs": [
    {
     "data": {
      "text/plain": [
       "Airport_Code\n",
       "NaN     38708\n",
       "NONE     1487\n",
       "PVT       485\n",
       "APA       160\n",
       "ORD       149\n",
       "        ...  \n",
       "TN95        1\n",
       "IGI         1\n",
       "3M8         1\n",
       "4CO3        1\n",
       "EIKH        1\n",
       "Name: count, Length: 10372, dtype: int64"
      ]
     },
     "execution_count": 45,
     "metadata": {},
     "output_type": "execute_result"
    }
   ],
   "source": [
    "#check Airport_Code value counts\n",
    "aircraft_df.Airport_Code.value_counts(dropna=False)"
   ]
  },
  {
   "cell_type": "code",
   "execution_count": 46,
   "metadata": {},
   "outputs": [
    {
     "data": {
      "text/plain": [
       "Airport_Code\n",
       "NONE    40195\n",
       "PVT       485\n",
       "APA       160\n",
       "ORD       149\n",
       "MRI       137\n",
       "        ...  \n",
       "TN95        1\n",
       "IGI         1\n",
       "3M8         1\n",
       "4CO3        1\n",
       "EIKH        1\n",
       "Name: count, Length: 10371, dtype: int64"
      ]
     },
     "execution_count": 46,
     "metadata": {},
     "output_type": "execute_result"
    }
   ],
   "source": [
    "#fill empty Airport_Code entries with \"NONE\"\n",
    "aircraft_df.Airport_Code = aircraft_df.Airport_Code.fillna(\"NONE\")\n",
    "aircraft_df.Airport_Code.value_counts(dropna=False)"
   ]
  },
  {
   "cell_type": "code",
   "execution_count": 47,
   "metadata": {},
   "outputs": [
    {
     "data": {
      "text/plain": [
       "Injury_Severity\n",
       "Non-Fatal     67332\n",
       "Fatal(1)       6163\n",
       "Fatal          5253\n",
       "Fatal(2)       3709\n",
       "Incident       2216\n",
       "              ...  \n",
       "Fatal(80)         1\n",
       "Fatal(217)        1\n",
       "Fatal(169)        1\n",
       "Fatal(88)         1\n",
       "Fatal(189)        1\n",
       "Name: count, Length: 110, dtype: int64"
      ]
     },
     "execution_count": 47,
     "metadata": {},
     "output_type": "execute_result"
    }
   ],
   "source": [
    "#check Injury_Severity value counts\n",
    "aircraft_df.Injury_Severity.value_counts(dropna=False)"
   ]
  },
  {
   "cell_type": "code",
   "execution_count": 48,
   "metadata": {},
   "outputs": [
    {
     "data": {
      "text/plain": [
       "Weather_Condition\n",
       "VMC    77282\n",
       "IMC     5973\n",
       "NaN     4454\n",
       "UNK      855\n",
       "Unk      262\n",
       "Name: count, dtype: int64"
      ]
     },
     "execution_count": 48,
     "metadata": {},
     "output_type": "execute_result"
    }
   ],
   "source": [
    "#check Weather_Condition value counts\n",
    "aircraft_df.Weather_Condition.value_counts(dropna=False)"
   ]
  },
  {
   "cell_type": "code",
   "execution_count": 49,
   "metadata": {},
   "outputs": [
    {
     "data": {
      "text/plain": [
       "Weather_Condition\n",
       "VMC    77282\n",
       "IMC     5973\n",
       "UNK     5571\n",
       "Name: count, dtype: int64"
      ]
     },
     "execution_count": 49,
     "metadata": {},
     "output_type": "execute_result"
    }
   ],
   "source": [
    "#capitalize Unk in Weather_Condition column  \n",
    "aircraft_df.loc[aircraft_df.Weather_Condition == 'Unk', 'Weather_Condition'] = 'UNK'\n",
    "#fill empty values with UNK\n",
    "aircraft_df.Weather_Condition.fillna(\"UNK\", inplace=True)\n",
    "aircraft_df.Weather_Condition.value_counts(dropna=False)"
   ]
  },
  {
   "cell_type": "code",
   "execution_count": 50,
   "metadata": {},
   "outputs": [
    {
     "data": {
      "text/plain": [
       "Amateur_Built\n",
       "No     80266\n",
       "Yes     8460\n",
       "NaN      100\n",
       "Name: count, dtype: int64"
      ]
     },
     "execution_count": 50,
     "metadata": {},
     "output_type": "execute_result"
    }
   ],
   "source": [
    "#check the value counts of Amateur_Built\n",
    "aircraft_df.Amateur_Built.value_counts(dropna=False)"
   ]
  },
  {
   "cell_type": "code",
   "execution_count": 51,
   "metadata": {},
   "outputs": [
    {
     "data": {
      "text/plain": [
       "Number_of_Engines\n",
       "1.0    69569\n",
       "2.0    11078\n",
       "NaN     6035\n",
       "0.0     1226\n",
       "3.0      483\n",
       "4.0      431\n",
       "8.0        3\n",
       "6.0        1\n",
       "Name: count, dtype: int64"
      ]
     },
     "execution_count": 51,
     "metadata": {},
     "output_type": "execute_result"
    }
   ],
   "source": [
    "#check the value count of Number_of_Engines\n",
    "aircraft_df.Number_of_Engines.value_counts(dropna=False)"
   ]
  },
  {
   "cell_type": "code",
   "execution_count": 52,
   "metadata": {},
   "outputs": [
    {
     "data": {
      "text/plain": [
       "Engine_Type\n",
       "Reciprocating      69519\n",
       "NaN                 7045\n",
       "Turbo Shaft         3609\n",
       "Turbo Prop          3391\n",
       "Turbo Fan           2481\n",
       "Unknown             2050\n",
       "Turbo Jet            703\n",
       "Geared Turbofan       12\n",
       "Electric              10\n",
       "LR                     2\n",
       "NONE                   2\n",
       "Hybrid Rocket          1\n",
       "UNK                    1\n",
       "Name: count, dtype: int64"
      ]
     },
     "execution_count": 52,
     "metadata": {},
     "output_type": "execute_result"
    }
   ],
   "source": [
    "#check the value count of Engine_Type\n",
    "aircraft_df.Engine_Type.value_counts(dropna=False)"
   ]
  },
  {
   "cell_type": "code",
   "execution_count": 53,
   "metadata": {},
   "outputs": [
    {
     "data": {
      "text/plain": [
       "Engine_Type\n",
       "Reciprocating      69519\n",
       "Unknown             9096\n",
       "Turbo Shaft         3609\n",
       "Turbo Prop          3391\n",
       "Turbo Fan           2481\n",
       "Turbo Jet            703\n",
       "Geared Turbofan       12\n",
       "Electric              10\n",
       "LR                     2\n",
       "NONE                   2\n",
       "Hybrid Rocket          1\n",
       "Name: count, dtype: int64"
      ]
     },
     "execution_count": 53,
     "metadata": {},
     "output_type": "execute_result"
    }
   ],
   "source": [
    "#replace UNK and NaN with Unknown in Engine_Type column \n",
    "aircraft_df.loc[aircraft_df.Engine_Type == 'UNK', 'Engine_Type'] = 'Unknown'\n",
    "aircraft_df.Engine_Type = aircraft_df.Engine_Type.fillna(\"Unknown\")\n",
    "aircraft_df.Engine_Type.value_counts(dropna=False)"
   ]
  },
  {
   "cell_type": "code",
   "execution_count": 54,
   "metadata": {},
   "outputs": [
    {
     "data": {
      "text/plain": [
       "Aircraft_Damage\n",
       "Substantial    64124\n",
       "Destroyed      18612\n",
       "NaN             3176\n",
       "Minor           2795\n",
       "Unknown          119\n",
       "Name: count, dtype: int64"
      ]
     },
     "execution_count": 54,
     "metadata": {},
     "output_type": "execute_result"
    }
   ],
   "source": [
    "#rename Aircraft_damage to Aircraft_Damage and check the value counts of Aircraft_Damage\n",
    "aircraft_df = aircraft_df.rename(columns={'Aircraft_damage': 'Aircraft_Damage'})\n",
    "aircraft_df.Aircraft_Damage.value_counts(dropna=False)"
   ]
  },
  {
   "cell_type": "code",
   "execution_count": 55,
   "metadata": {},
   "outputs": [
    {
     "data": {
      "text/plain": [
       "Aircraft_Damage\n",
       "Substantial    64124\n",
       "Destroyed      18612\n",
       "Unknown         3295\n",
       "Minor           2795\n",
       "Name: count, dtype: int64"
      ]
     },
     "execution_count": 55,
     "metadata": {},
     "output_type": "execute_result"
    }
   ],
   "source": [
    "#fill empty values in Aircraft_Damage with Unknown\n",
    "aircraft_df.Aircraft_Damage = aircraft_df.Aircraft_Damage.fillna('Unknown')\n",
    "aircraft_df.Aircraft_Damage.value_counts(dropna=False)"
   ]
  },
  {
   "cell_type": "code",
   "execution_count": 56,
   "metadata": {},
   "outputs": [
    {
     "data": {
      "text/plain": [
       "Aircraft_Category\n",
       "NaN                  56551\n",
       "Airplane             27608\n",
       "Helicopter            3437\n",
       "Glider                 508\n",
       "Balloon                231\n",
       "Gyrocraft              173\n",
       "Weight-Shift           161\n",
       "Powered Parachute       91\n",
       "Ultralight              30\n",
       "Unknown                 14\n",
       "WSFT                     9\n",
       "Powered-Lift             5\n",
       "Blimp                    4\n",
       "UNK                      2\n",
       "Rocket                   1\n",
       "ULTR                     1\n",
       "Name: count, dtype: int64"
      ]
     },
     "execution_count": 56,
     "metadata": {},
     "output_type": "execute_result"
    }
   ],
   "source": [
    "#check the value counts for Aircraft_Category\n",
    "aircraft_df.Aircraft_Category.value_counts(dropna=False)"
   ]
  },
  {
   "cell_type": "code",
   "execution_count": 57,
   "metadata": {},
   "outputs": [
    {
     "data": {
      "text/plain": [
       "Aircraft_Category\n",
       "Unknown              56567\n",
       "Airplane             27608\n",
       "Helicopter            3437\n",
       "Glider                 508\n",
       "Balloon                231\n",
       "Gyrocraft              173\n",
       "Weight-Shift           161\n",
       "Powered Parachute       91\n",
       "Ultralight              30\n",
       "WSFT                     9\n",
       "Powered-Lift             5\n",
       "Blimp                    4\n",
       "Rocket                   1\n",
       "ULTR                     1\n",
       "Name: count, dtype: int64"
      ]
     },
     "execution_count": 57,
     "metadata": {},
     "output_type": "execute_result"
    }
   ],
   "source": [
    "#replace UNK and NaN with Unknown in Aircraft_Category\n",
    "aircraft_df.loc[aircraft_df.Aircraft_Category == 'UNK', 'Aircraft_Category'] = 'Unknown'\n",
    "aircraft_df.Aircraft_Category = aircraft_df.Aircraft_Category.fillna('Unknown')\n",
    "aircraft_df.Aircraft_Category.value_counts(dropna=False)"
   ]
  },
  {
   "cell_type": "code",
   "execution_count": 58,
   "metadata": {},
   "outputs": [
    {
     "data": {
      "text/plain": [
       "Aircraft_Category\n",
       "Unknown       56567\n",
       "Airplane      27608\n",
       "Helicopter     3437\n",
       "Name: count, dtype: int64"
      ]
     },
     "execution_count": 58,
     "metadata": {},
     "output_type": "execute_result"
    }
   ],
   "source": [
    "#drop all rows except ones in which the Aircraft_Category is either Unknown, Airplane, or \n",
    "#Helicopter\n",
    "aircraft_categories = ['Unknown', 'Airplane', 'Helicopter']\n",
    "aircraft_df = aircraft_df[aircraft_df.Aircraft_Category.isin(aircraft_categories)].reset_index(drop=True)\n",
    "aircraft_df.Aircraft_Category.value_counts(dropna=False)"
   ]
  },
  {
   "cell_type": "code",
   "execution_count": 59,
   "metadata": {},
   "outputs": [
    {
     "data": {
      "text/plain": [
       "Schedule\n",
       "NaN     75091\n",
       "NSCH     4443\n",
       "UNK      4099\n",
       "SCHD     3979\n",
       "Name: count, dtype: int64"
      ]
     },
     "execution_count": 59,
     "metadata": {},
     "output_type": "execute_result"
    }
   ],
   "source": [
    "#check value counts of Schedule\n",
    "aircraft_df.Schedule.value_counts(dropna=False)"
   ]
  },
  {
   "cell_type": "code",
   "execution_count": 60,
   "metadata": {},
   "outputs": [
    {
     "data": {
      "text/plain": [
       "Schedule\n",
       "UNK     79190\n",
       "NSCH     4443\n",
       "SCHD     3979\n",
       "Name: count, dtype: int64"
      ]
     },
     "execution_count": 60,
     "metadata": {},
     "output_type": "execute_result"
    }
   ],
   "source": [
    "#fill NaN in Schedule column with UNK\n",
    "aircraft_df.Schedule = aircraft_df.Schedule.fillna(\"UNK\")\n",
    "aircraft_df.Schedule.value_counts(dropna=False)"
   ]
  },
  {
   "cell_type": "code",
   "execution_count": 61,
   "metadata": {},
   "outputs": [
    {
     "data": {
      "text/plain": [
       "FAR_Description\n",
       "NaN                               56848\n",
       "091                               17288\n",
       "Part 91: General Aviation          6221\n",
       "NUSN                               1573\n",
       "137                                1010\n",
       "NUSC                                989\n",
       "135                                 746\n",
       "121                                 674\n",
       "Part 137: Agricultural              437\n",
       "UNK                                 364\n",
       "Part 135: Air Taxi & Commuter       298\n",
       "PUBU                                251\n",
       "129                                 244\n",
       "Part 121: Air Carrier               165\n",
       "133                                 107\n",
       "Part 129: Foreign                    98\n",
       "Non-U.S., Non-Commercial             96\n",
       "Non-U.S., Commercial                 91\n",
       "Part 133: Rotorcraft Ext. Load       32\n",
       "Unknown                              22\n",
       "Public Use                           18\n",
       "091K                                 14\n",
       "ARMF                                  7\n",
       "125                                   5\n",
       "Part 125: 20+ Pax,6000+ lbs           5\n",
       "107                                   4\n",
       "Public Aircraft                       2\n",
       "Armed Forces                          1\n",
       "Part 91F: Special Flt Ops.            1\n",
       "Part 91 Subpart K: Fractional         1\n",
       "Name: count, dtype: int64"
      ]
     },
     "execution_count": 61,
     "metadata": {},
     "output_type": "execute_result"
    }
   ],
   "source": [
    "#check value counts of FAR_Description\n",
    "aircraft_df.FAR_Description.value_counts(dropna=False)"
   ]
  },
  {
   "cell_type": "code",
   "execution_count": 62,
   "metadata": {},
   "outputs": [
    {
     "data": {
      "text/plain": [
       "FAR_Description\n",
       "Unknown                           56870\n",
       "091                               17288\n",
       "Part 91: General Aviation          6221\n",
       "NUSN                               1573\n",
       "137                                1010\n",
       "NUSC                                989\n",
       "135                                 746\n",
       "121                                 674\n",
       "Part 137: Agricultural              437\n",
       "UNK                                 364\n",
       "Part 135: Air Taxi & Commuter       298\n",
       "PUBU                                251\n",
       "129                                 244\n",
       "Part 121: Air Carrier               165\n",
       "133                                 107\n",
       "Part 129: Foreign                    98\n",
       "Non-U.S., Non-Commercial             96\n",
       "Non-U.S., Commercial                 91\n",
       "Part 133: Rotorcraft Ext. Load       32\n",
       "Public Use                           18\n",
       "091K                                 14\n",
       "ARMF                                  7\n",
       "125                                   5\n",
       "Part 125: 20+ Pax,6000+ lbs           5\n",
       "107                                   4\n",
       "Public Aircraft                       2\n",
       "Armed Forces                          1\n",
       "Part 91F: Special Flt Ops.            1\n",
       "Part 91 Subpart K: Fractional         1\n",
       "Name: count, dtype: int64"
      ]
     },
     "execution_count": 62,
     "metadata": {},
     "output_type": "execute_result"
    }
   ],
   "source": [
    "#fill empty values in FAR_Description with Unknown\n",
    "aircraft_df.FAR_Description = aircraft_df.FAR_Description.fillna(\"Unknown\")\n",
    "aircraft_df.FAR_Description.value_counts(dropna=False)"
   ]
  },
  {
   "cell_type": "code",
   "execution_count": 63,
   "metadata": {},
   "outputs": [
    {
     "data": {
      "text/plain": [
       "Purpose_of_flight\n",
       "Personal                     48555\n",
       "Instructional                10473\n",
       "Unknown                       6777\n",
       "NaN                           6133\n",
       "Aerial Application            4712\n",
       "Business                      3986\n",
       "Positioning                   1644\n",
       "Other Work Use                1207\n",
       "Ferry                          812\n",
       "Aerial Observation             768\n",
       "Public Aircraft                719\n",
       "Executive/corporate            553\n",
       "Flight Test                    389\n",
       "Skydiving                      181\n",
       "External Load                  122\n",
       "Public Aircraft - Federal      105\n",
       "Banner Tow                     101\n",
       "Air Race show                   78\n",
       "Public Aircraft - Local         73\n",
       "Public Aircraft - State         64\n",
       "Air Race/show                   56\n",
       "Glider Tow                      42\n",
       "Firefighting                    40\n",
       "Air Drop                        11\n",
       "ASHO                             6\n",
       "PUBS                             4\n",
       "PUBL                             1\n",
       "Name: count, dtype: int64"
      ]
     },
     "execution_count": 63,
     "metadata": {},
     "output_type": "execute_result"
    }
   ],
   "source": [
    "#check the value counts in Purpose_of_flight\n",
    "aircraft_df.Purpose_of_flight.value_counts(dropna=False)"
   ]
  },
  {
   "cell_type": "code",
   "execution_count": 64,
   "metadata": {},
   "outputs": [
    {
     "data": {
      "text/plain": [
       "Purpose_of_flight\n",
       "Personal                     48555\n",
       "Unknown                      12910\n",
       "Instructional                10473\n",
       "Aerial Application            4712\n",
       "Business                      3986\n",
       "Positioning                   1644\n",
       "Other Work Use                1207\n",
       "Ferry                          812\n",
       "Aerial Observation             768\n",
       "Public Aircraft                719\n",
       "Executive/corporate            553\n",
       "Flight Test                    389\n",
       "Skydiving                      181\n",
       "External Load                  122\n",
       "Public Aircraft - Federal      105\n",
       "Banner Tow                     101\n",
       "Air Race show                   78\n",
       "Public Aircraft - Local         73\n",
       "Public Aircraft - State         64\n",
       "Air Race/show                   56\n",
       "Glider Tow                      42\n",
       "Firefighting                    40\n",
       "Air Drop                        11\n",
       "ASHO                             6\n",
       "PUBS                             4\n",
       "PUBL                             1\n",
       "Name: count, dtype: int64"
      ]
     },
     "execution_count": 64,
     "metadata": {},
     "output_type": "execute_result"
    }
   ],
   "source": [
    "#fill empty fields on Purpose_of_flight with Unknown\n",
    "aircraft_df.Purpose_of_flight = aircraft_df.Purpose_of_flight.fillna(\"Unknown\")\n",
    "aircraft_df.Purpose_of_flight.value_counts(dropna=False)"
   ]
  },
  {
   "cell_type": "code",
   "execution_count": 65,
   "metadata": {},
   "outputs": [
    {
     "data": {
      "text/plain": [
       "Purpose_of_flight\n",
       "Personal               48555\n",
       "Unknown                12910\n",
       "Instructional          10473\n",
       "Aerial Application      4712\n",
       "Business                3986\n",
       "Positioning             1644\n",
       "Other Work Use          1207\n",
       "Public Aircraft          961\n",
       "Ferry                    812\n",
       "Aerial Observation       768\n",
       "Executive/corporate      553\n",
       "Flight Test              389\n",
       "Skydiving                181\n",
       "External Load            122\n",
       "Banner Tow               101\n",
       "Air Race show             78\n",
       "Air Race/show             56\n",
       "Glider Tow                42\n",
       "Firefighting              40\n",
       "Air Drop                  11\n",
       "ASHO                       6\n",
       "PUBS                       4\n",
       "PUBL                       1\n",
       "Name: count, dtype: int64"
      ]
     },
     "execution_count": 65,
     "metadata": {},
     "output_type": "execute_result"
    }
   ],
   "source": [
    "#make all entries containing Public Aircraft in Purpose_of_flight column one spelling\n",
    "aircraft_df.loc[aircraft_df.Purpose_of_flight.str.contains('Public Aircraft', na=False), 'Purpose_of_flight'] = 'Public Aircraft'\n",
    "aircraft_df.Purpose_of_flight.value_counts()"
   ]
  },
  {
   "cell_type": "code",
   "execution_count": 66,
   "metadata": {},
   "outputs": [
    {
     "data": {
      "text/plain": [
       "Purpose_of_flight\n",
       "Personal               48555\n",
       "Unknown                12910\n",
       "Instructional          10473\n",
       "Aerial Application      4712\n",
       "Business                3986\n",
       "Positioning             1644\n",
       "Other Work Use          1207\n",
       "Public Aircraft          961\n",
       "Ferry                    812\n",
       "Aerial Observation       768\n",
       "Executive/corporate      553\n",
       "Flight Test              389\n",
       "Name: count, dtype: int64"
      ]
     },
     "execution_count": 66,
     "metadata": {},
     "output_type": "execute_result"
    }
   ],
   "source": [
    "#drop all rows except ones in which the Purpose_of_flight is either Personal, Instructional,  \n",
    "#Unknown, Aerial Application, Business, Positioning, Other Work Use, Ferry, Aerial Observation, Public Aircraft, Executive/Corporate, or Flight Test\n",
    "purpose_categories = ['Personal', 'Unknown', 'Instructional', 'Aerial Application', 'Business', 'Positioning', 'Other Work Use', 'Public Aircraft', 'Ferry', 'Aerial Observation', 'Executive/corporate', 'Flight Test']\n",
    "aircraft_df = aircraft_df[aircraft_df.Purpose_of_flight.isin(purpose_categories)].reset_index(drop=True)\n",
    "aircraft_df.Purpose_of_flight.value_counts(dropna=False)"
   ]
  },
  {
   "cell_type": "code",
   "execution_count": 67,
   "metadata": {},
   "outputs": [
    {
     "data": {
      "text/plain": [
       "Make\n",
       "CESSNA               26978\n",
       "PIPER                14790\n",
       "BEECH                 5351\n",
       "BOEING                2735\n",
       "BELL                  2678\n",
       "                     ...  \n",
       "HAZELRIGE                1\n",
       "MASKO                    1\n",
       "FRANK H MARCHETTI        1\n",
       "SHANKLIN                 1\n",
       "ROYSE RALPH L            1\n",
       "Name: count, Length: 7196, dtype: int64"
      ]
     },
     "execution_count": 67,
     "metadata": {},
     "output_type": "execute_result"
    }
   ],
   "source": [
    "#look at the most common Make values\n",
    "aircraft_df.Make.value_counts()"
   ]
  },
  {
   "cell_type": "code",
   "execution_count": 68,
   "metadata": {},
   "outputs": [
    {
     "data": {
      "text/plain": [
       "9518.0"
      ]
     },
     "execution_count": 68,
     "metadata": {},
     "output_type": "execute_result"
    }
   ],
   "source": [
    "#calculate the fatalities for CESSNA accidents\n",
    "cessna_fatal_injuries = aircraft_df.loc[aircraft_df.Make == 'CESSNA', 'Total_Fatal_Injuries'].sum()\n",
    "cessna_fatal_injuries"
   ]
  },
  {
   "cell_type": "code",
   "execution_count": 69,
   "metadata": {},
   "outputs": [
    {
     "data": {
      "text/plain": [
       "49418.0"
      ]
     },
     "execution_count": 69,
     "metadata": {},
     "output_type": "execute_result"
    }
   ],
   "source": [
    "#check the sum of Total_Fatal_Injuries of the entire dataframe\n",
    "aircraft_df.Total_Fatal_Injuries.sum()"
   ]
  },
  {
   "cell_type": "code",
   "execution_count": 70,
   "metadata": {},
   "outputs": [
    {
     "data": {
      "text/plain": [
       "Make\n",
       "CESSNA    26978\n",
       "PIPER     14790\n",
       "BEECH      5351\n",
       "BOEING     2735\n",
       "BELL       2678\n",
       "Name: count, dtype: int64"
      ]
     },
     "execution_count": 70,
     "metadata": {},
     "output_type": "execute_result"
    }
   ],
   "source": [
    "#make a series of the top 5 makes and their occurences\n",
    "top_5_make_counts = aircraft_df.Make.value_counts().head(5)\n",
    "top_5_make_counts"
   ]
  },
  {
   "cell_type": "code",
   "execution_count": 71,
   "metadata": {},
   "outputs": [
    {
     "data": {
      "text/html": [
       "<div>\n",
       "<style scoped>\n",
       "    .dataframe tbody tr th:only-of-type {\n",
       "        vertical-align: middle;\n",
       "    }\n",
       "\n",
       "    .dataframe tbody tr th {\n",
       "        vertical-align: top;\n",
       "    }\n",
       "\n",
       "    .dataframe thead th {\n",
       "        text-align: right;\n",
       "    }\n",
       "</style>\n",
       "<table border=\"1\" class=\"dataframe\">\n",
       "  <thead>\n",
       "    <tr style=\"text-align: right;\">\n",
       "      <th></th>\n",
       "      <th>Make</th>\n",
       "      <th>Accidents</th>\n",
       "      <th>Total_Fatal_Injuries</th>\n",
       "    </tr>\n",
       "  </thead>\n",
       "  <tbody>\n",
       "    <tr>\n",
       "      <th>0</th>\n",
       "      <td>CESSNA</td>\n",
       "      <td>26978</td>\n",
       "      <td>9518.0</td>\n",
       "    </tr>\n",
       "    <tr>\n",
       "      <th>1</th>\n",
       "      <td>PIPER</td>\n",
       "      <td>14790</td>\n",
       "      <td>6673.0</td>\n",
       "    </tr>\n",
       "    <tr>\n",
       "      <th>2</th>\n",
       "      <td>BEECH</td>\n",
       "      <td>5351</td>\n",
       "      <td>3708.0</td>\n",
       "    </tr>\n",
       "    <tr>\n",
       "      <th>3</th>\n",
       "      <td>BOEING</td>\n",
       "      <td>2735</td>\n",
       "      <td>8738.0</td>\n",
       "    </tr>\n",
       "    <tr>\n",
       "      <th>4</th>\n",
       "      <td>BELL</td>\n",
       "      <td>2678</td>\n",
       "      <td>1301.0</td>\n",
       "    </tr>\n",
       "  </tbody>\n",
       "</table>\n",
       "</div>"
      ],
      "text/plain": [
       "     Make  Accidents  Total_Fatal_Injuries\n",
       "0  CESSNA      26978                9518.0\n",
       "1   PIPER      14790                6673.0\n",
       "2   BEECH       5351                3708.0\n",
       "3  BOEING       2735                8738.0\n",
       "4    BELL       2678                1301.0"
      ]
     },
     "execution_count": 71,
     "metadata": {},
     "output_type": "execute_result"
    }
   ],
   "source": [
    "#create a table of the top 5 for Makea, Accidents, and Total_Fatal_Injuries\n",
    "make_fatalities = aircraft_df.groupby('Make')['Total_Fatal_Injuries'].sum()\n",
    "merged_make_fatal_df = pd.DataFrame({'Make': top_5_make_counts.index, 'Counts': top_5_make_counts.values})\n",
    "merged_make_fatal_df = merged_make_fatal_df.merge(make_fatalities, on='Make')\n",
    "merged_make_fatal_df = merged_make_fatal_df.rename(columns={'Total_Fatal_Injuries_x': 'Total_Fatal_Injuries', 'Counts': 'Accidents'})\n",
    "merged_make_fatal_df"
   ]
  },
  {
   "cell_type": "code",
   "execution_count": 72,
   "metadata": {},
   "outputs": [
    {
     "data": {
      "text/html": [
       "<div>\n",
       "<style scoped>\n",
       "    .dataframe tbody tr th:only-of-type {\n",
       "        vertical-align: middle;\n",
       "    }\n",
       "\n",
       "    .dataframe tbody tr th {\n",
       "        vertical-align: top;\n",
       "    }\n",
       "\n",
       "    .dataframe thead th {\n",
       "        text-align: right;\n",
       "    }\n",
       "</style>\n",
       "<table border=\"1\" class=\"dataframe\">\n",
       "  <thead>\n",
       "    <tr style=\"text-align: right;\">\n",
       "      <th></th>\n",
       "      <th>Make</th>\n",
       "      <th>Total_Fatal_Injuries</th>\n",
       "    </tr>\n",
       "  </thead>\n",
       "  <tbody>\n",
       "    <tr>\n",
       "      <th>0</th>\n",
       "      <td>CESSNA</td>\n",
       "      <td>9518.0</td>\n",
       "    </tr>\n",
       "    <tr>\n",
       "      <th>1</th>\n",
       "      <td>BOEING</td>\n",
       "      <td>8738.0</td>\n",
       "    </tr>\n",
       "    <tr>\n",
       "      <th>2</th>\n",
       "      <td>PIPER</td>\n",
       "      <td>6673.0</td>\n",
       "    </tr>\n",
       "    <tr>\n",
       "      <th>3</th>\n",
       "      <td>BEECH</td>\n",
       "      <td>3708.0</td>\n",
       "    </tr>\n",
       "    <tr>\n",
       "      <th>4</th>\n",
       "      <td>AIRBUS</td>\n",
       "      <td>1325.0</td>\n",
       "    </tr>\n",
       "  </tbody>\n",
       "</table>\n",
       "</div>"
      ],
      "text/plain": [
       "     Make  Total_Fatal_Injuries\n",
       "0  CESSNA                9518.0\n",
       "1  BOEING                8738.0\n",
       "2   PIPER                6673.0\n",
       "3   BEECH                3708.0\n",
       "4  AIRBUS                1325.0"
      ]
     },
     "execution_count": 72,
     "metadata": {},
     "output_type": "execute_result"
    }
   ],
   "source": [
    "#create a series of the top 5 total fatal injuries by make\n",
    "total_fatal_injuries = aircraft_df.groupby('Make')['Total_Fatal_Injuries'].sum().sort_values(ascending=False)\n",
    "total_fatal_injuries_df = pd.DataFrame({'Make': total_fatal_injuries.index, 'Total_Fatal_Injuries': total_fatal_injuries.values})\n",
    "total_fatal_injuries_df = total_fatal_injuries_df.head(5)\n",
    "total_fatal_injuries_df"
   ]
  },
  {
   "cell_type": "code",
   "execution_count": 73,
   "metadata": {},
   "outputs": [
    {
     "data": {
      "image/png": "[encoded data removed]",
      "text/plain": [
       "<Figure size 432x288 with 1 Axes>"
      ]
     },
     "metadata": {
      "needs_background": "light"
     },
     "output_type": "display_data"
    }
   ],
   "source": [
    "#plot a double bar chart to represent the top 5 makes to appear and their total fatalities\n",
    "\n",
    "#set bar width\n",
    "bar_width = 0.35\n",
    "\n",
    "#set the index\n",
    "index = np.arange(len(merged_make_fatal_df['Make']))\n",
    "\n",
    "#plot the bar chart\n",
    "plt.bar(index, merged_make_fatal_df['Accidents'], bar_width, label='Accidents')\n",
    "plt.bar(index + bar_width, merged_make_fatal_df['Total_Fatal_Injuries'], bar_width, label='Total Fatal Injuries')\n",
    "\n",
    "#label the axis and title\n",
    "plt.xlabel('Make')\n",
    "plt.ylabel('Count')\n",
    "plt.title('Accidents and Total Fatal Injuries by Make')\n",
    "\n",
    "#adjust the x ticks\n",
    "plt.xticks(index + bar_width/2, merged_make_fatal_df['Make'])\n",
    "\n",
    "#create a legend and show the graph\n",
    "plt.legend()\n",
    "plt.show()"
   ]
  },
  {
   "cell_type": "code",
   "execution_count": 74,
   "metadata": {},
   "outputs": [
    {
     "data": {
      "image/png": "[encoded data removed]",
      "text/plain": [
       "<Figure size 720x360 with 2 Axes>"
      ]
     },
     "metadata": {
      "needs_background": "light"
     },
     "output_type": "display_data"
    }
   ],
   "source": [
    "# Create a figure with two subplots\n",
    "fig, (ax1, ax2) = plt.subplots(1, 2, figsize=(10, 5))\n",
    "\n",
    "# Plot the first bar graph for 'Accidents/Incidents'\n",
    "ax1.bar(merged_make_fatal_df['Make'], merged_make_fatal_df['Accidents'])\n",
    "ax1.set_xlabel('Make')\n",
    "ax1.set_ylabel('Accidents and Incidents')\n",
    "ax1.set_title('Top 5 Accidents and Incidents by Make')\n",
    "\n",
    "# Plot the second bar graph for 'Total_Fatal_Injuries'\n",
    "ax2.bar(total_fatal_injuries_df['Make'], total_fatal_injuries_df['Total_Fatal_Injuries'], color='orange')\n",
    "ax2.set_xlabel('Make')\n",
    "ax2.set_ylabel('Total Fatal Injuries')\n",
    "ax2.set_title('Top 5 Total Fatal Injuries by Make')\n",
    "\n",
    "# Adjust the spacing between subplots\n",
    "plt.tight_layout()\n",
    "\n",
    "# Display the plots\n",
    "plt.show()"
   ]
  },
  {
   "cell_type": "code",
   "execution_count": 75,
   "metadata": {},
   "outputs": [
    {
     "data": {
      "text/plain": [
       "0        1948\n",
       "1        1962\n",
       "2        1974\n",
       "3        1977\n",
       "4        1979\n",
       "         ... \n",
       "86965    2022\n",
       "86966    2022\n",
       "86967    2022\n",
       "86968    2022\n",
       "86969    2022\n",
       "Name: Year, Length: 86970, dtype: int32"
      ]
     },
     "execution_count": 75,
     "metadata": {},
     "output_type": "execute_result"
    }
   ],
   "source": [
    "#change the Event_Date column to datetimelike values\n",
    "aircraft_df['Event_Date'] = pd.to_datetime(aircraft_df['Event_Date'])\n",
    "#create a Year column from the Event_Date values \n",
    "aircraft_df['Year'] = aircraft_df['Event_Date'].dt.year\n",
    "aircraft_df['Year']\n"
   ]
  },
  {
   "cell_type": "code",
   "execution_count": 76,
   "metadata": {},
   "outputs": [
    {
     "data": {
      "text/html": [
       "<div>\n",
       "<style scoped>\n",
       "    .dataframe tbody tr th:only-of-type {\n",
       "        vertical-align: middle;\n",
       "    }\n",
       "\n",
       "    .dataframe tbody tr th {\n",
       "        vertical-align: top;\n",
       "    }\n",
       "\n",
       "    .dataframe thead th {\n",
       "        text-align: right;\n",
       "    }\n",
       "</style>\n",
       "<table border=\"1\" class=\"dataframe\">\n",
       "  <thead>\n",
       "    <tr style=\"text-align: right;\">\n",
       "      <th></th>\n",
       "      <th>Year</th>\n",
       "      <th>Weather_Condition</th>\n",
       "      <th>Aircraft_Damage</th>\n",
       "      <th>Total_Fatal_Injuries</th>\n",
       "      <th>Total_Serious_Injuries</th>\n",
       "      <th>Total_Minor_Injuries</th>\n",
       "      <th>Total_Uninjured</th>\n",
       "      <th>Total_Injuries</th>\n",
       "    </tr>\n",
       "  </thead>\n",
       "  <tbody>\n",
       "    <tr>\n",
       "      <th>0</th>\n",
       "      <td>1981</td>\n",
       "      <td>IMC</td>\n",
       "      <td>Destroyed</td>\n",
       "      <td>4.0</td>\n",
       "      <td>0.0</td>\n",
       "      <td>0.0</td>\n",
       "      <td>0.0</td>\n",
       "      <td>4.0</td>\n",
       "    </tr>\n",
       "    <tr>\n",
       "      <th>1</th>\n",
       "      <td>1982</td>\n",
       "      <td>IMC</td>\n",
       "      <td>Destroyed</td>\n",
       "      <td>427.0</td>\n",
       "      <td>65.0</td>\n",
       "      <td>65.0</td>\n",
       "      <td>201.0</td>\n",
       "      <td>557.0</td>\n",
       "    </tr>\n",
       "    <tr>\n",
       "      <th>2</th>\n",
       "      <td>1982</td>\n",
       "      <td>IMC</td>\n",
       "      <td>Minor</td>\n",
       "      <td>0.0</td>\n",
       "      <td>1.0</td>\n",
       "      <td>33.0</td>\n",
       "      <td>651.0</td>\n",
       "      <td>34.0</td>\n",
       "    </tr>\n",
       "    <tr>\n",
       "      <th>3</th>\n",
       "      <td>1982</td>\n",
       "      <td>IMC</td>\n",
       "      <td>Substantial</td>\n",
       "      <td>18.0</td>\n",
       "      <td>14.0</td>\n",
       "      <td>43.0</td>\n",
       "      <td>188.0</td>\n",
       "      <td>75.0</td>\n",
       "    </tr>\n",
       "    <tr>\n",
       "      <th>4</th>\n",
       "      <td>1982</td>\n",
       "      <td>IMC</td>\n",
       "      <td>Unknown</td>\n",
       "      <td>2.0</td>\n",
       "      <td>0.0</td>\n",
       "      <td>0.0</td>\n",
       "      <td>192.0</td>\n",
       "      <td>2.0</td>\n",
       "    </tr>\n",
       "    <tr>\n",
       "      <th>...</th>\n",
       "      <td>...</td>\n",
       "      <td>...</td>\n",
       "      <td>...</td>\n",
       "      <td>...</td>\n",
       "      <td>...</td>\n",
       "      <td>...</td>\n",
       "      <td>...</td>\n",
       "      <td>...</td>\n",
       "    </tr>\n",
       "    <tr>\n",
       "      <th>472</th>\n",
       "      <td>2022</td>\n",
       "      <td>UNK</td>\n",
       "      <td>Unknown</td>\n",
       "      <td>53.0</td>\n",
       "      <td>39.0</td>\n",
       "      <td>25.0</td>\n",
       "      <td>5470.0</td>\n",
       "      <td>117.0</td>\n",
       "    </tr>\n",
       "    <tr>\n",
       "      <th>473</th>\n",
       "      <td>2022</td>\n",
       "      <td>VMC</td>\n",
       "      <td>Destroyed</td>\n",
       "      <td>106.0</td>\n",
       "      <td>5.0</td>\n",
       "      <td>21.0</td>\n",
       "      <td>7.0</td>\n",
       "      <td>132.0</td>\n",
       "    </tr>\n",
       "    <tr>\n",
       "      <th>474</th>\n",
       "      <td>2022</td>\n",
       "      <td>VMC</td>\n",
       "      <td>Minor</td>\n",
       "      <td>2.0</td>\n",
       "      <td>1.0</td>\n",
       "      <td>3.0</td>\n",
       "      <td>90.0</td>\n",
       "      <td>6.0</td>\n",
       "    </tr>\n",
       "    <tr>\n",
       "      <th>475</th>\n",
       "      <td>2022</td>\n",
       "      <td>VMC</td>\n",
       "      <td>Substantial</td>\n",
       "      <td>123.0</td>\n",
       "      <td>227.0</td>\n",
       "      <td>152.0</td>\n",
       "      <td>1003.0</td>\n",
       "      <td>502.0</td>\n",
       "    </tr>\n",
       "    <tr>\n",
       "      <th>476</th>\n",
       "      <td>2022</td>\n",
       "      <td>VMC</td>\n",
       "      <td>Unknown</td>\n",
       "      <td>9.0</td>\n",
       "      <td>9.0</td>\n",
       "      <td>9.0</td>\n",
       "      <td>514.0</td>\n",
       "      <td>27.0</td>\n",
       "    </tr>\n",
       "  </tbody>\n",
       "</table>\n",
       "<p>477 rows × 8 columns</p>\n",
       "</div>"
      ],
      "text/plain": [
       "     Year Weather_Condition Aircraft_Damage  Total_Fatal_Injuries  \\\n",
       "0    1981               IMC       Destroyed                   4.0   \n",
       "1    1982               IMC       Destroyed                 427.0   \n",
       "2    1982               IMC           Minor                   0.0   \n",
       "3    1982               IMC     Substantial                  18.0   \n",
       "4    1982               IMC         Unknown                   2.0   \n",
       "..    ...               ...             ...                   ...   \n",
       "472  2022               UNK         Unknown                  53.0   \n",
       "473  2022               VMC       Destroyed                 106.0   \n",
       "474  2022               VMC           Minor                   2.0   \n",
       "475  2022               VMC     Substantial                 123.0   \n",
       "476  2022               VMC         Unknown                   9.0   \n",
       "\n",
       "     Total_Serious_Injuries  Total_Minor_Injuries  Total_Uninjured  \\\n",
       "0                       0.0                   0.0              0.0   \n",
       "1                      65.0                  65.0            201.0   \n",
       "2                       1.0                  33.0            651.0   \n",
       "3                      14.0                  43.0            188.0   \n",
       "4                       0.0                   0.0            192.0   \n",
       "..                      ...                   ...              ...   \n",
       "472                    39.0                  25.0           5470.0   \n",
       "473                     5.0                  21.0              7.0   \n",
       "474                     1.0                   3.0             90.0   \n",
       "475                   227.0                 152.0           1003.0   \n",
       "476                     9.0                   9.0            514.0   \n",
       "\n",
       "     Total_Injuries  \n",
       "0               4.0  \n",
       "1             557.0  \n",
       "2              34.0  \n",
       "3              75.0  \n",
       "4               2.0  \n",
       "..              ...  \n",
       "472           117.0  \n",
       "473           132.0  \n",
       "474             6.0  \n",
       "475           502.0  \n",
       "476            27.0  \n",
       "\n",
       "[477 rows x 8 columns]"
      ]
     },
     "execution_count": 76,
     "metadata": {},
     "output_type": "execute_result"
    }
   ],
   "source": [
    "#group the data into a frame containing Year, Weather_Condition, Aircraft_Damage, Total_Fatal_Injuries, Total_Serious_Injuries, Total_Minor_Injuries, Total_Uninjured\n",
    "injured_grouped_df = aircraft_df.groupby(['Year', 'Weather_Condition', 'Aircraft_Damage']).agg({'Total_Fatal_Injuries': 'sum', 'Total_Serious_Injuries': 'sum', 'Total_Minor_Injuries': 'sum', 'Total_Uninjured': 'sum'}).reset_index()\n",
    "\n",
    "#convert the year to an integer type\n",
    "injured_grouped_df.Year = injured_grouped_df.Year.astype(int)\n",
    "\n",
    "#filter out entries prior to 1980\n",
    "injured_grouped_df = injured_grouped_df[injured_grouped_df.Year >= 1980]\n",
    "\n",
    "#create another column Total_Injuries that combines the three Injuries columns\n",
    "injured_grouped_df['Total_Injuries'] = injured_grouped_df[['Total_Fatal_Injuries', 'Total_Serious_Injuries', 'Total_Minor_Injuries']].sum(axis=1)\n",
    "\n",
    "#reset the index\n",
    "injured_grouped_df = injured_grouped_df.reset_index(drop=True)\n",
    "injured_grouped_df"
   ]
  },
  {
   "cell_type": "code",
   "execution_count": 77,
   "metadata": {},
   "outputs": [
    {
     "data": {
      "text/plain": [
       "Aircraft_Damage\n",
       "Destroyed      124\n",
       "Substantial    123\n",
       "Minor          114\n",
       "Name: count, dtype: int64"
      ]
     },
     "execution_count": 77,
     "metadata": {},
     "output_type": "execute_result"
    }
   ],
   "source": [
    "# Filter the DataFrame to exclude Unknown from Aircraft_Damage\n",
    "injured_grouped_filtered_df = injured_grouped_df[injured_grouped_df['Aircraft_Damage'] != 'Unknown']\n",
    "injured_grouped_filtered_df.Aircraft_Damage.value_counts(dropna=False)"
   ]
  },
  {
   "cell_type": "code",
   "execution_count": 78,
   "metadata": {},
   "outputs": [
    {
     "data": {
      "image/png": "[encoded data removed]",
      "text/plain": [
       "<Figure size 720x432 with 1 Axes>"
      ]
     },
     "metadata": {
      "needs_background": "light"
     },
     "output_type": "display_data"
    }
   ],
   "source": [
    "#create a plot \n",
    "plt.figure(figsize=(10, 6))\n",
    "\n",
    "#plot a line graph of Total Uninjured People by Year in Accidents\n",
    "sns.lineplot(data=injured_grouped_df, x='Year', y='Total_Uninjured', ci=None)\n",
    "\n",
    "#customize the labels and title\n",
    "plt.xlabel('Year')\n",
    "plt.ylabel('Number of Uninjured')\n",
    "plt.title('Number of Uninjured People Involved in Aircraft Accidents by Year')\n",
    "\n",
    "#customize the ticks and limit of the Y axis\n",
    "plt.xticks(range(1980, 2023, 5))\n",
    "plt.yticks(range(0, 2000, 200))\n",
    "plt.ylim(0, 2000)\n",
    "\n",
    "#show the graph\n",
    "plt.show()"
   ]
  },
  {
   "cell_type": "code",
   "execution_count": 79,
   "metadata": {},
   "outputs": [
    {
     "data": {
      "image/png": "[encoded data removed]",
      "text/plain": [
       "<Figure size 720x432 with 1 Axes>"
      ]
     },
     "metadata": {
      "needs_background": "light"
     },
     "output_type": "display_data"
    }
   ],
   "source": [
    "#create a plot\n",
    "plt.figure(figsize=(10, 6))\n",
    "\n",
    "#create a line graph for the three types of Injuries\n",
    "sns.lineplot(data=injured_grouped_df, x='Year', y='Total_Serious_Injuries', label='Serious Injuries', ci=None)\n",
    "sns.lineplot(data=injured_grouped_df, x='Year', y='Total_Minor_Injuries', label='Minor Injuries', ci=None)\n",
    "sns.lineplot(data=injured_grouped_df, x='Year', y='Total_Fatal_Injuries', label='Fatal Injuries', ci=None)\n",
    "\n",
    "#customize the labels and title\n",
    "plt.xlabel('Year')\n",
    "plt.ylabel('Number of People')\n",
    "plt.title('Number of Injured People Involved in Aircraft Accidents by Year')\n",
    "\n",
    "#customize the ticks and Y limit\n",
    "plt.xticks(range(1980, 2023, 5))\n",
    "plt.yticks(range(0, 500, 50))\n",
    "plt.ylim(0, 500)\n",
    "\n",
    "#show the legend and graph\n",
    "plt.legend()\n",
    "plt.show()"
   ]
  },
  {
   "cell_type": "code",
   "execution_count": 80,
   "metadata": {},
   "outputs": [
    {
     "data": {
      "image/png": "[encoded data removed]",
      "text/plain": [
       "<Figure size 1296x432 with 2 Axes>"
      ]
     },
     "metadata": {
      "needs_background": "light"
     },
     "output_type": "display_data"
    }
   ],
   "source": [
    "#create a plot for two separate graphs\n",
    "fig, (ax1, ax2) = plt.subplots(1, 2, figsize=(18, 6))\n",
    "\n",
    "# Create a pivot table to reshape the data\n",
    "injured_pivot_df = injured_grouped_filtered_df.pivot_table(index='Year', columns='Aircraft_Damage', values='Total_Injuries', fill_value=0)\n",
    "uninjured_pivot_df = injured_grouped_filtered_df.pivot_table(index='Year', columns='Aircraft_Damage', values='Total_Uninjured', fill_value=0)\n",
    "\n",
    "# Create a Total Injuries line plot using Seaborn\n",
    "sns.lineplot(data=injured_pivot_df, ax=ax1)\n",
    "\n",
    "# Set the labels and title\n",
    "ax1.set_xlabel('Year')\n",
    "ax1.set_ylabel('Number of Injuries')\n",
    "ax1.set_title('Total Number of People Injured in Aircraft Accidents by Year')\n",
    "\n",
    "#set the y lim\n",
    "ax1.set_ylim(0, 3000)\n",
    "\n",
    "# Create a Total Uninjured line plot using Seaborn\n",
    "sns.lineplot(data=uninjured_pivot_df, ax=ax2)\n",
    "\n",
    "# Set the labels and title \n",
    "ax2.set_xlabel('Year')\n",
    "ax2.set_ylabel('Number of Uninjured')\n",
    "ax2.set_title('Total Number of Uninjured People Involved in Aircraft Accidents by Year')\n",
    "\n",
    "#set the y lim\n",
    "ax2.set_ylim(0, 3000)\n",
    "\n",
    "# Display the legend and show the plot\n",
    "plt.legend(title='Aircraft Damage')\n",
    "plt.show()"
   ]
  },
  {
   "cell_type": "code",
   "execution_count": 81,
   "metadata": {},
   "outputs": [
    {
     "name": "stdout",
     "output_type": "stream",
     "text": [
      "       Make Aircraft_Damage  Count\n",
      "0    CESSNA       Destroyed   5172\n",
      "1     PIPER       Destroyed   3423\n",
      "2     BEECH       Destroyed   1576\n",
      "3      BELL       Destroyed    696\n",
      "4    MOONEY       Destroyed    373\n",
      "5   GRUMMAN       Destroyed    298\n",
      "6  ROBINSON       Destroyed    282\n",
      "7  BELLANCA       Destroyed    231\n",
      "8    HUGHES       Destroyed    187\n",
      "9    BOEING       Destroyed    166\n",
      "                Make Aircraft_Damage  Count\n",
      "0             BOEING           Minor    710\n",
      "1             CESSNA           Minor    383\n",
      "2              PIPER           Minor    204\n",
      "3              BEECH           Minor    168\n",
      "4  MCDONNELL DOUGLAS           Minor    162\n",
      "5             AIRBUS           Minor     59\n",
      "6            DOUGLAS           Minor     54\n",
      "7   AIRBUS INDUSTRIE           Minor     51\n",
      "8            EMBRAER           Minor     49\n",
      "9               BELL           Minor     47\n"
     ]
    }
   ],
   "source": [
    "#create a dataframe based on the Make and Aircraft_Damage columns\n",
    "make_damage_grouped_df = aircraft_df.groupby(['Make', 'Aircraft_Damage']).size().sort_values(ascending=False).reset_index(name='Count')\n",
    "\n",
    "# Filter the DataFrame to only show Destroyed from Aircraft_Damage\n",
    "make_damage_destroyed_df = make_damage_grouped_df[make_damage_grouped_df['Aircraft_Damage'] == 'Destroyed']\n",
    "\n",
    "#create a top 10\n",
    "top10_make_damage_destroyed_df = make_damage_destroyed_df.head(10).reset_index(drop=True)\n",
    "\n",
    "#Filter the DataFrame to only show Minor from Aircraft_Damage\n",
    "make_damage_minor_df = make_damage_grouped_df[make_damage_grouped_df['Aircraft_Damage'] == 'Minor']\n",
    "\n",
    "#create a top 10\n",
    "top10_make_damage_minor_df = make_damage_minor_df.head(10).reset_index(drop=True)\n",
    "print(top10_make_damage_destroyed_df)\n",
    "print(top10_make_damage_minor_df)"
   ]
  },
  {
   "cell_type": "code",
   "execution_count": 82,
   "metadata": {},
   "outputs": [
    {
     "data": {
      "image/png": "[encoded data removed]",
      "text/plain": [
       "<Figure size 1800x720 with 2 Axes>"
      ]
     },
     "metadata": {
      "needs_background": "light"
     },
     "output_type": "display_data"
    }
   ],
   "source": [
    "#create a plot for two separate graphs\n",
    "fig, (ax1, ax2) = plt.subplots(1, 2, figsize=(25, 10))\n",
    "\n",
    "#create a Destroyed Make bar plot using Seaborn\n",
    "sns.barplot(data=top10_make_damage_destroyed_df, x='Make', y='Count', ax=ax1)\n",
    "\n",
    "#set the labels and title\n",
    "ax1.set_xlabel('Make')\n",
    "ax1.set_ylabel('Number of Destroyed Aircraft (Thousands)')\n",
    "ax1.set_title('Top 10 Number of Destroyed Aircraft by Make')\n",
    "\n",
    "\n",
    "#create a Minor Make bar plot using Seaborn\n",
    "sns.barplot(data=top10_make_damage_minor_df, x='Make', y='Count', ax=ax2)\n",
    "\n",
    "#set the labels and title\n",
    "ax2.set_xlabel('Make')\n",
    "ax2.set_ylabel('Number of Minor Accidents (Hundreds)')\n",
    "ax2.set_title('Top 10 Number of Minor Accidents by Make')\n",
    "\n",
    "#adjust the spacing\n",
    "plt.tight_layout()\n",
    "\n",
    "#show the graph\n",
    "plt.show()"
   ]
  },
  {
   "cell_type": "code",
   "execution_count": 83,
   "metadata": {},
   "outputs": [
    {
     "data": {
      "text/html": [
       "<div>\n",
       "<style scoped>\n",
       "    .dataframe tbody tr th:only-of-type {\n",
       "        vertical-align: middle;\n",
       "    }\n",
       "\n",
       "    .dataframe tbody tr th {\n",
       "        vertical-align: top;\n",
       "    }\n",
       "\n",
       "    .dataframe thead th {\n",
       "        text-align: right;\n",
       "    }\n",
       "</style>\n",
       "<table border=\"1\" class=\"dataframe\">\n",
       "  <thead>\n",
       "    <tr style=\"text-align: right;\">\n",
       "      <th></th>\n",
       "      <th>Number_of_Engines</th>\n",
       "      <th>Amateur_Built</th>\n",
       "      <th>Total_Fatal_Injuries</th>\n",
       "      <th>Total_Uninjured</th>\n",
       "    </tr>\n",
       "  </thead>\n",
       "  <tbody>\n",
       "    <tr>\n",
       "      <th>0</th>\n",
       "      <td>0.0</td>\n",
       "      <td>No</td>\n",
       "      <td>321.0</td>\n",
       "      <td>2372.0</td>\n",
       "    </tr>\n",
       "    <tr>\n",
       "      <th>1</th>\n",
       "      <td>0.0</td>\n",
       "      <td>Yes</td>\n",
       "      <td>27.0</td>\n",
       "      <td>11.0</td>\n",
       "    </tr>\n",
       "    <tr>\n",
       "      <th>2</th>\n",
       "      <td>1.0</td>\n",
       "      <td>No</td>\n",
       "      <td>18922.0</td>\n",
       "      <td>67739.0</td>\n",
       "    </tr>\n",
       "    <tr>\n",
       "      <th>3</th>\n",
       "      <td>1.0</td>\n",
       "      <td>Yes</td>\n",
       "      <td>2775.0</td>\n",
       "      <td>4653.0</td>\n",
       "    </tr>\n",
       "    <tr>\n",
       "      <th>4</th>\n",
       "      <td>2.0</td>\n",
       "      <td>No</td>\n",
       "      <td>10344.0</td>\n",
       "      <td>194599.0</td>\n",
       "    </tr>\n",
       "    <tr>\n",
       "      <th>5</th>\n",
       "      <td>2.0</td>\n",
       "      <td>Yes</td>\n",
       "      <td>44.0</td>\n",
       "      <td>489.0</td>\n",
       "    </tr>\n",
       "    <tr>\n",
       "      <th>6</th>\n",
       "      <td>3.0</td>\n",
       "      <td>No</td>\n",
       "      <td>878.0</td>\n",
       "      <td>51245.0</td>\n",
       "    </tr>\n",
       "    <tr>\n",
       "      <th>7</th>\n",
       "      <td>3.0</td>\n",
       "      <td>Yes</td>\n",
       "      <td>0.0</td>\n",
       "      <td>137.0</td>\n",
       "    </tr>\n",
       "    <tr>\n",
       "      <th>8</th>\n",
       "      <td>4.0</td>\n",
       "      <td>No</td>\n",
       "      <td>1656.0</td>\n",
       "      <td>40876.0</td>\n",
       "    </tr>\n",
       "    <tr>\n",
       "      <th>9</th>\n",
       "      <td>4.0</td>\n",
       "      <td>Yes</td>\n",
       "      <td>1.0</td>\n",
       "      <td>17.0</td>\n",
       "    </tr>\n",
       "    <tr>\n",
       "      <th>10</th>\n",
       "      <td>6.0</td>\n",
       "      <td>No</td>\n",
       "      <td>0.0</td>\n",
       "      <td>0.0</td>\n",
       "    </tr>\n",
       "    <tr>\n",
       "      <th>11</th>\n",
       "      <td>8.0</td>\n",
       "      <td>No</td>\n",
       "      <td>0.0</td>\n",
       "      <td>0.0</td>\n",
       "    </tr>\n",
       "  </tbody>\n",
       "</table>\n",
       "</div>"
      ],
      "text/plain": [
       "    Number_of_Engines Amateur_Built  Total_Fatal_Injuries  Total_Uninjured\n",
       "0                 0.0            No                 321.0           2372.0\n",
       "1                 0.0           Yes                  27.0             11.0\n",
       "2                 1.0            No               18922.0          67739.0\n",
       "3                 1.0           Yes                2775.0           4653.0\n",
       "4                 2.0            No               10344.0         194599.0\n",
       "5                 2.0           Yes                  44.0            489.0\n",
       "6                 3.0            No                 878.0          51245.0\n",
       "7                 3.0           Yes                   0.0            137.0\n",
       "8                 4.0            No                1656.0          40876.0\n",
       "9                 4.0           Yes                   1.0             17.0\n",
       "10                6.0            No                   0.0              0.0\n",
       "11                8.0            No                   0.0              0.0"
      ]
     },
     "execution_count": 83,
     "metadata": {},
     "output_type": "execute_result"
    }
   ],
   "source": [
    "#create a dataframe with the columns Number_of_Engines, Amateur_Built, Total_Fatal_Injuries, and Total_Uninjured and reset the index\n",
    "engine_grouped_df = aircraft_df.groupby(['Number_of_Engines', 'Amateur_Built']).agg({'Total_Fatal_Injuries': 'sum', 'Total_Uninjured': 'sum'}).reset_index()\n",
    "engine_grouped_df"
   ]
  },
  {
   "cell_type": "code",
   "execution_count": 84,
   "metadata": {},
   "outputs": [
    {
     "data": {
      "image/png": "[encoded data removed]",
      "text/plain": [
       "<Figure size 576x432 with 1 Axes>"
      ]
     },
     "metadata": {
      "needs_background": "light"
     },
     "output_type": "display_data"
    }
   ],
   "source": [
    "#create a plot\n",
    "plt.figure(figsize=(8, 6))\n",
    "\n",
    "#create a scatter plot of fatal injuries by number of engines with matplotlib and color code yes/no for amateur built\n",
    "plt.scatter(engine_grouped_df['Number_of_Engines'], engine_grouped_df['Total_Fatal_Injuries'], s=engine_grouped_df['Total_Fatal_Injuries'], alpha=0.7, c=engine_grouped_df.Amateur_Built.map({'Yes': 'red', 'No': 'blue'}))\n",
    "\n",
    "#customize the labels and title\n",
    "plt.xlabel('Number of Engines')\n",
    "plt.ylabel('Number of Fatal Injuries')\n",
    "plt.title('Proportion of Fatal Injuries by Number of Engines')\n",
    "\n",
    "#customize the xlim and ylim\n",
    "plt.xlim(-1.5, engine_grouped_df['Number_of_Engines'].max() + 1)\n",
    "plt.ylim(-2000, 30000)\n",
    "\n",
    "#customize the legend\n",
    "legend_elements = [plt.Line2D([0], [0], marker='o', color='w', label='yes', markerfacecolor='red', markersize=10), plt.Line2D([0], [0], marker='o', color='w', label='no', markerfacecolor='blue', markersize=10)]\n",
    "\n",
    "#show the legend and plot\n",
    "plt.legend(handles=legend_elements, title='Amateur Built')\n",
    "plt.show()"
   ]
  },
  {
   "cell_type": "code",
   "execution_count": 85,
   "metadata": {},
   "outputs": [],
   "source": [
    "#create a modified dataset to use for Tableau\n",
    "#aircraft_df.to_csv('modified_aircraft_data.csv', index=False)"
   ]
  }
 ],
 "metadata": {
  "kernelspec": {
   "display_name": "Python 3",
   "language": "python",
   "name": "python3"
  },
  "language_info": {
   "codemirror_mode": {
    "name": "ipython",
    "version": 3
   },
   "file_extension": ".py",
   "mimetype": "text/x-python",
   "name": "python",
   "nbconvert_exporter": "python",
   "pygments_lexer": "ipython3",
   "version": "3.8.5"
  }
 },
 "nbformat": 4,
 "nbformat_minor": 2
}
